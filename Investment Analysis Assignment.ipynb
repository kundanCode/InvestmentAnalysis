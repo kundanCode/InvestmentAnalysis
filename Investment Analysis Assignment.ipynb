{
 "cells": [
  {
   "cell_type": "markdown",
   "metadata": {},
   "source": [
    "#                            Investment Analysis Assignment"
   ]
  },
  {
   "cell_type": "markdown",
   "metadata": {},
   "source": [
    "### The Spark Funds, an asset management company wants to make investments in a few companies.\n",
    "\n",
    "\n",
    "### Objectives Business\n",
    "\n",
    "\n",
    "* It wants to invest between 5 to 15 million USD per round of investment.\n",
    "* It wants to invest only in English-speaking countries. \n",
    "* It wants to invest where most other investors are investing.\n",
    " \n"
   ]
  },
  {
   "cell_type": "markdown",
   "metadata": {},
   "source": [
    "### Importing the packages that will be used throughout the analysis"
   ]
  },
  {
   "cell_type": "code",
   "execution_count": 1,
   "metadata": {},
   "outputs": [],
   "source": [
    "import pandas as pd\n",
    "import numpy as np\n",
    "import seaborn as sns\n",
    "import matplotlib.pyplot as plt"
   ]
  },
  {
   "cell_type": "markdown",
   "metadata": {},
   "source": [
    " ### Checkpoint 1: Data Cleaning 1\n"
   ]
  },
  {
   "cell_type": "code",
   "execution_count": 2,
   "metadata": {},
   "outputs": [
    {
     "data": {
      "text/plain": [
       "66368"
      ]
     },
     "execution_count": 2,
     "metadata": {},
     "output_type": "execute_result"
    }
   ],
   "source": [
    "#reading the companies.txt from local location and crate the companies_df.\n",
    "companies_df= pd.read_csv(\"companies.txt\",sep='\\t',encoding = \"ISO-8859-1\")\n",
    "companies_df.permalink= companies_df.permalink.str.encode('ISO-8859-1').str.decode('ascii','ignore')\n",
    "companies_df['permalink']= companies_df['permalink'].str.lower()\n",
    " \n",
    "#get the number of unique company in dataframe companies_df.\n",
    "companies_df['permalink'].nunique()"
   ]
  },
  {
   "cell_type": "code",
   "execution_count": 3,
   "metadata": {},
   "outputs": [
    {
     "data": {
      "text/plain": [
       "66368"
      ]
     },
     "execution_count": 3,
     "metadata": {},
     "output_type": "execute_result"
    }
   ],
   "source": [
    "#reading the rounds2.csv from local location and crate the rounds_df.\n",
    "\n",
    "rounds_df = pd.read_csv(\"rounds2.csv\",encoding = \"ISO-8859-1\")\n",
    "rounds_df.company_permalink= rounds_df.company_permalink.str.encode('ISO-8859-1').str.decode('ascii','ignore')\n",
    "rounds_df['company_permalink'] = rounds_df['company_permalink'].str.lower()\n",
    " \n",
    "#get the number of unique company_permalink in dataframe rounds_df.\n",
    "rounds_df['company_permalink'].nunique()"
   ]
  },
  {
   "cell_type": "code",
   "execution_count": 9,
   "metadata": {},
   "outputs": [],
   "source": [
    "# rounds_df['company_permalink']"
   ]
  },
  {
   "cell_type": "code",
   "execution_count": null,
   "metadata": {},
   "outputs": [],
   "source": []
  },
  {
   "cell_type": "code",
   "execution_count": 4,
   "metadata": {},
   "outputs": [
    {
     "data": {
      "text/plain": [
       "(688, 10)"
      ]
     },
     "execution_count": 4,
     "metadata": {},
     "output_type": "execute_result"
    }
   ],
   "source": [
    "# Reading the mapping.csv file from local location and crate the mapping_df.\n",
    "mapping_df= pd.read_csv(\"mapping.csv\",encoding = \"ISO-8859-1\")\n",
    "mapping_df.category_list= mapping_df.category_list.str.encode('ISO-8859-1').str.decode('ascii','ignore')\n",
    "mapping_df.shape"
   ]
  },
  {
   "cell_type": "markdown",
   "metadata": {},
   "source": [
    "### Are there any companies in the rounds2 file which are not present in companies? Answer yes or no: Y/N"
   ]
  },
  {
   "cell_type": "code",
   "execution_count": 5,
   "metadata": {},
   "outputs": [
    {
     "name": "stdout",
     "output_type": "stream",
     "text": [
      "True\n"
     ]
    }
   ],
   "source": [
    "\n",
    "data_com = pd.DataFrame(rounds_df.company_permalink.unique())\n",
    "data_round = pd.DataFrame(companies_df.permalink.unique())\n",
    "print(data_com.equals(data_round))"
   ]
  },
  {
   "cell_type": "markdown",
   "metadata": {},
   "source": [
    "### Merging  the dataframe companies_df and rounds_df using left merge.\n",
    "**Get the number of unique permalink of ``master_frame`` which is match to ```compaines_df``` and ``rounds_df`` as well.**"
   ]
  },
  {
   "cell_type": "code",
   "execution_count": 6,
   "metadata": {},
   "outputs": [
    {
     "data": {
      "text/plain": [
       "66368"
      ]
     },
     "execution_count": 6,
     "metadata": {},
     "output_type": "execute_result"
    }
   ],
   "source": [
    "master_frame= pd.merge(companies_df,rounds_df, left_on='permalink',right_on='company_permalink',how='left')\n",
    "master_frame.permalink.nunique()\n"
   ]
  },
  {
   "cell_type": "code",
   "execution_count": 7,
   "metadata": {},
   "outputs": [
    {
     "data": {
      "text/plain": [
       "(114949, 16)"
      ]
     },
     "execution_count": 7,
     "metadata": {},
     "output_type": "execute_result"
    }
   ],
   "source": [
    "master_frame.shape"
   ]
  },
  {
   "cell_type": "markdown",
   "metadata": {},
   "source": [
    "### Cleaning the data :\n",
    "* Construct the data.\n",
    "* Explore the data.\n",
    "* Drop the columns which are redundant for analysis.\n",
    "* Remove the null rows.\n",
    "* Inspecting Null Values\n"
   ]
  },
  {
   "cell_type": "code",
   "execution_count": 8,
   "metadata": {},
   "outputs": [
    {
     "data": {
      "text/plain": [
       "(114949, 16)"
      ]
     },
     "execution_count": 8,
     "metadata": {},
     "output_type": "execute_result"
    }
   ],
   "source": [
    "master_frame.shape"
   ]
  },
  {
   "cell_type": "code",
   "execution_count": 9,
   "metadata": {},
   "outputs": [
    {
     "data": {
      "text/plain": [
       "permalink                   0.000000\n",
       "name                        0.000870\n",
       "homepage_url                5.336280\n",
       "category_list               2.966533\n",
       "status                      0.000000\n",
       "country_code                7.549435\n",
       "state_code                  9.522484\n",
       "region                      8.844792\n",
       "city                        8.842182\n",
       "founded_at                 17.852265\n",
       "company_permalink           0.000000\n",
       "funding_round_permalink     0.000000\n",
       "funding_round_type          0.000000\n",
       "funding_round_code         72.909725\n",
       "funded_at                   0.000000\n",
       "raised_amount_usd          17.390321\n",
       "dtype: float64"
      ]
     },
     "execution_count": 9,
     "metadata": {},
     "output_type": "execute_result"
    }
   ],
   "source": [
    "#Percentage of missing values in each column (column-wise) of dataframe.\n",
    "100*(master_frame.isnull().sum()/len(master_frame))"
   ]
  },
  {
   "cell_type": "code",
   "execution_count": 10,
   "metadata": {},
   "outputs": [
    {
     "data": {
      "text/html": [
       "<div>\n",
       "<style scoped>\n",
       "    .dataframe tbody tr th:only-of-type {\n",
       "        vertical-align: middle;\n",
       "    }\n",
       "\n",
       "    .dataframe tbody tr th {\n",
       "        vertical-align: top;\n",
       "    }\n",
       "\n",
       "    .dataframe thead th {\n",
       "        text-align: right;\n",
       "    }\n",
       "</style>\n",
       "<table border=\"1\" class=\"dataframe\">\n",
       "  <thead>\n",
       "    <tr style=\"text-align: right;\">\n",
       "      <th></th>\n",
       "      <th>permalink</th>\n",
       "      <th>name</th>\n",
       "      <th>homepage_url</th>\n",
       "      <th>category_list</th>\n",
       "      <th>status</th>\n",
       "      <th>country_code</th>\n",
       "      <th>state_code</th>\n",
       "      <th>region</th>\n",
       "      <th>city</th>\n",
       "      <th>founded_at</th>\n",
       "      <th>company_permalink</th>\n",
       "      <th>funding_round_permalink</th>\n",
       "      <th>funding_round_type</th>\n",
       "      <th>funding_round_code</th>\n",
       "      <th>funded_at</th>\n",
       "      <th>raised_amount_usd</th>\n",
       "    </tr>\n",
       "  </thead>\n",
       "  <tbody>\n",
       "    <tr>\n",
       "      <th>0</th>\n",
       "      <td>/organization/-fame</td>\n",
       "      <td>#fame</td>\n",
       "      <td>http://livfame.com</td>\n",
       "      <td>Media</td>\n",
       "      <td>operating</td>\n",
       "      <td>IND</td>\n",
       "      <td>16</td>\n",
       "      <td>Mumbai</td>\n",
       "      <td>Mumbai</td>\n",
       "      <td>NaN</td>\n",
       "      <td>/organization/-fame</td>\n",
       "      <td>/funding-round/9a01d05418af9f794eebff7ace91f638</td>\n",
       "      <td>venture</td>\n",
       "      <td>B</td>\n",
       "      <td>05-01-2015</td>\n",
       "      <td>10000000.0</td>\n",
       "    </tr>\n",
       "    <tr>\n",
       "      <th>1</th>\n",
       "      <td>/organization/-qounter</td>\n",
       "      <td>:Qounter</td>\n",
       "      <td>http://www.qounter.com</td>\n",
       "      <td>Application Platforms|Real Time|Social Network...</td>\n",
       "      <td>operating</td>\n",
       "      <td>USA</td>\n",
       "      <td>DE</td>\n",
       "      <td>DE - Other</td>\n",
       "      <td>Delaware City</td>\n",
       "      <td>04-09-2014</td>\n",
       "      <td>/organization/-qounter</td>\n",
       "      <td>/funding-round/22dacff496eb7acb2b901dec1dfe5633</td>\n",
       "      <td>venture</td>\n",
       "      <td>A</td>\n",
       "      <td>14-10-2014</td>\n",
       "      <td>NaN</td>\n",
       "    </tr>\n",
       "    <tr>\n",
       "      <th>2</th>\n",
       "      <td>/organization/-qounter</td>\n",
       "      <td>:Qounter</td>\n",
       "      <td>http://www.qounter.com</td>\n",
       "      <td>Application Platforms|Real Time|Social Network...</td>\n",
       "      <td>operating</td>\n",
       "      <td>USA</td>\n",
       "      <td>DE</td>\n",
       "      <td>DE - Other</td>\n",
       "      <td>Delaware City</td>\n",
       "      <td>04-09-2014</td>\n",
       "      <td>/organization/-qounter</td>\n",
       "      <td>/funding-round/b44fbb94153f6cdef13083530bb48030</td>\n",
       "      <td>seed</td>\n",
       "      <td>NaN</td>\n",
       "      <td>01-03-2014</td>\n",
       "      <td>700000.0</td>\n",
       "    </tr>\n",
       "  </tbody>\n",
       "</table>\n",
       "</div>"
      ],
      "text/plain": [
       "                permalink      name            homepage_url  \\\n",
       "0     /organization/-fame     #fame      http://livfame.com   \n",
       "1  /organization/-qounter  :Qounter  http://www.qounter.com   \n",
       "2  /organization/-qounter  :Qounter  http://www.qounter.com   \n",
       "\n",
       "                                       category_list     status country_code  \\\n",
       "0                                              Media  operating          IND   \n",
       "1  Application Platforms|Real Time|Social Network...  operating          USA   \n",
       "2  Application Platforms|Real Time|Social Network...  operating          USA   \n",
       "\n",
       "  state_code      region           city  founded_at       company_permalink  \\\n",
       "0         16      Mumbai         Mumbai         NaN     /organization/-fame   \n",
       "1         DE  DE - Other  Delaware City  04-09-2014  /organization/-qounter   \n",
       "2         DE  DE - Other  Delaware City  04-09-2014  /organization/-qounter   \n",
       "\n",
       "                           funding_round_permalink funding_round_type  \\\n",
       "0  /funding-round/9a01d05418af9f794eebff7ace91f638            venture   \n",
       "1  /funding-round/22dacff496eb7acb2b901dec1dfe5633            venture   \n",
       "2  /funding-round/b44fbb94153f6cdef13083530bb48030               seed   \n",
       "\n",
       "  funding_round_code   funded_at  raised_amount_usd  \n",
       "0                  B  05-01-2015         10000000.0  \n",
       "1                  A  14-10-2014                NaN  \n",
       "2                NaN  01-03-2014           700000.0  "
      ]
     },
     "execution_count": 10,
     "metadata": {},
     "output_type": "execute_result"
    }
   ],
   "source": [
    "master_frame.head(3)"
   ]
  },
  {
   "cell_type": "code",
   "execution_count": 11,
   "metadata": {},
   "outputs": [],
   "source": [
    "#Dropping rows based on null columns \n",
    "master_frame = master_frame[~(master_frame['raised_amount_usd'].isnull() | master_frame['country_code'].isnull() |\n",
    "                              master_frame['category_list'].isnull())]"
   ]
  },
  {
   "cell_type": "code",
   "execution_count": 12,
   "metadata": {},
   "outputs": [],
   "source": [
    "#Droping the redundent columns#\n",
    "master_frame = master_frame.drop(['homepage_url','state_code','region','founded_at','funded_at','funding_round_code','city',\n",
    "                                  'company_permalink','funding_round_code','funding_round_permalink','status'],axis=1)"
   ]
  },
  {
   "cell_type": "code",
   "execution_count": 13,
   "metadata": {},
   "outputs": [
    {
     "data": {
      "text/plain": [
       "permalink             0.0\n",
       "name                  0.0\n",
       "category_list         0.0\n",
       "country_code          0.0\n",
       "funding_round_type    0.0\n",
       "raised_amount_usd     0.0\n",
       "dtype: float64"
      ]
     },
     "execution_count": 13,
     "metadata": {},
     "output_type": "execute_result"
    }
   ],
   "source": [
    "\n",
    "round(100*(master_frame.isnull().sum()/len(master_frame.index)), 2)"
   ]
  },
  {
   "cell_type": "markdown",
   "metadata": {},
   "source": [
    "## Checkpoint 2: Funding Type Analysis\n",
    "###  Average Values of Investments for Each of these Funding Types:"
   ]
  },
  {
   "cell_type": "code",
   "execution_count": 14,
   "metadata": {},
   "outputs": [],
   "source": [
    "master_frame= master_frame[(master_frame['funding_round_type'] == 'venture')\n",
    "                            | (master_frame['funding_round_type'] == 'seed')\n",
    "                            | (master_frame['funding_round_type'] == 'angel')\n",
    "                            | (master_frame['funding_round_type'] == 'private_equity')]"
   ]
  },
  {
   "cell_type": "code",
   "execution_count": 15,
   "metadata": {},
   "outputs": [],
   "source": [
    "master_frame_plot = master_frame.copy()"
   ]
  },
  {
   "cell_type": "code",
   "execution_count": 16,
   "metadata": {},
   "outputs": [],
   "source": [
    "#Average funding amount of venture type,seed,angle,Private_equity.\n",
    "master_frame_ft =master_frame.groupby(master_frame.funding_round_type).raised_amount_usd.mean().astype('int64').sort_values(ascending = False)"
   ]
  },
  {
   "cell_type": "code",
   "execution_count": 17,
   "metadata": {},
   "outputs": [
    {
     "data": {
      "text/plain": [
       "funding_round_type\n",
       "private_equity    73938486\n",
       "venture           11724222\n",
       "angel               971573\n",
       "seed                747793\n",
       "Name: raised_amount_usd, dtype: int64"
      ]
     },
     "execution_count": 17,
     "metadata": {},
     "output_type": "execute_result"
    }
   ],
   "source": [
    "master_frame_ft.head()"
   ]
  },
  {
   "cell_type": "markdown",
   "metadata": {},
   "source": [
    "### As  consider Spark Funds wants to invest between 5 to 15 million USD per investment round.\n",
    "#### ``Venture`` Funding type is the most suitable for it.\n",
    "\n",
    "####  master_frame filter by ```venture``` :\n"
   ]
  },
  {
   "cell_type": "code",
   "execution_count": 18,
   "metadata": {},
   "outputs": [
    {
     "data": {
      "text/html": [
       "<div>\n",
       "<style scoped>\n",
       "    .dataframe tbody tr th:only-of-type {\n",
       "        vertical-align: middle;\n",
       "    }\n",
       "\n",
       "    .dataframe tbody tr th {\n",
       "        vertical-align: top;\n",
       "    }\n",
       "\n",
       "    .dataframe thead th {\n",
       "        text-align: right;\n",
       "    }\n",
       "</style>\n",
       "<table border=\"1\" class=\"dataframe\">\n",
       "  <thead>\n",
       "    <tr style=\"text-align: right;\">\n",
       "      <th></th>\n",
       "      <th>permalink</th>\n",
       "      <th>name</th>\n",
       "      <th>category_list</th>\n",
       "      <th>country_code</th>\n",
       "      <th>funding_round_type</th>\n",
       "      <th>raised_amount_usd</th>\n",
       "    </tr>\n",
       "  </thead>\n",
       "  <tbody>\n",
       "    <tr>\n",
       "      <th>0</th>\n",
       "      <td>/organization/-fame</td>\n",
       "      <td>#fame</td>\n",
       "      <td>Media</td>\n",
       "      <td>IND</td>\n",
       "      <td>venture</td>\n",
       "      <td>10000000.0</td>\n",
       "    </tr>\n",
       "    <tr>\n",
       "      <th>4</th>\n",
       "      <td>/organization/0-6-com</td>\n",
       "      <td>0-6.com</td>\n",
       "      <td>Curated Web</td>\n",
       "      <td>CHN</td>\n",
       "      <td>venture</td>\n",
       "      <td>2000000.0</td>\n",
       "    </tr>\n",
       "    <tr>\n",
       "      <th>8</th>\n",
       "      <td>/organization/0ndine-biomedical-inc</td>\n",
       "      <td>Ondine Biomedical Inc.</td>\n",
       "      <td>Biotechnology</td>\n",
       "      <td>CAN</td>\n",
       "      <td>venture</td>\n",
       "      <td>719491.0</td>\n",
       "    </tr>\n",
       "  </tbody>\n",
       "</table>\n",
       "</div>"
      ],
      "text/plain": [
       "                             permalink                    name  category_list  \\\n",
       "0                  /organization/-fame                   #fame          Media   \n",
       "4                /organization/0-6-com                 0-6.com    Curated Web   \n",
       "8  /organization/0ndine-biomedical-inc  Ondine Biomedical Inc.  Biotechnology   \n",
       "\n",
       "  country_code funding_round_type  raised_amount_usd  \n",
       "0          IND            venture         10000000.0  \n",
       "4          CHN            venture          2000000.0  \n",
       "8          CAN            venture           719491.0  "
      ]
     },
     "execution_count": 18,
     "metadata": {},
     "output_type": "execute_result"
    }
   ],
   "source": [
    "master_frame = master_frame[(master_frame['funding_round_type']=='venture')]\n",
    "master_frame.head(3)                          "
   ]
  },
  {
   "cell_type": "markdown",
   "metadata": {},
   "source": [
    "##  Checkpoint 3: Country Analysis\n",
    "\n",
    "\n",
    "*** Spark Funds wants to invest in countries with the highest amount of funding for ``venture`` investment type.**"
   ]
  },
  {
   "cell_type": "code",
   "execution_count": 19,
   "metadata": {},
   "outputs": [
    {
     "data": {
      "text/html": [
       "<div>\n",
       "<style scoped>\n",
       "    .dataframe tbody tr th:only-of-type {\n",
       "        vertical-align: middle;\n",
       "    }\n",
       "\n",
       "    .dataframe tbody tr th {\n",
       "        vertical-align: top;\n",
       "    }\n",
       "\n",
       "    .dataframe thead th {\n",
       "        text-align: right;\n",
       "    }\n",
       "</style>\n",
       "<table border=\"1\" class=\"dataframe\">\n",
       "  <thead>\n",
       "    <tr style=\"text-align: right;\">\n",
       "      <th></th>\n",
       "      <th>raised_amount_usd</th>\n",
       "    </tr>\n",
       "    <tr>\n",
       "      <th>country_code</th>\n",
       "      <th></th>\n",
       "    </tr>\n",
       "  </thead>\n",
       "  <tbody>\n",
       "    <tr>\n",
       "      <th>USA</th>\n",
       "      <td>420068029342</td>\n",
       "    </tr>\n",
       "    <tr>\n",
       "      <th>CHN</th>\n",
       "      <td>39338918773</td>\n",
       "    </tr>\n",
       "    <tr>\n",
       "      <th>GBR</th>\n",
       "      <td>20072813004</td>\n",
       "    </tr>\n",
       "    <tr>\n",
       "      <th>IND</th>\n",
       "      <td>14261508718</td>\n",
       "    </tr>\n",
       "    <tr>\n",
       "      <th>CAN</th>\n",
       "      <td>9482217668</td>\n",
       "    </tr>\n",
       "    <tr>\n",
       "      <th>FRA</th>\n",
       "      <td>7226851352</td>\n",
       "    </tr>\n",
       "    <tr>\n",
       "      <th>ISR</th>\n",
       "      <td>6854350477</td>\n",
       "    </tr>\n",
       "    <tr>\n",
       "      <th>DEU</th>\n",
       "      <td>6306921981</td>\n",
       "    </tr>\n",
       "    <tr>\n",
       "      <th>JPN</th>\n",
       "      <td>3167647127</td>\n",
       "    </tr>\n",
       "  </tbody>\n",
       "</table>\n",
       "</div>"
      ],
      "text/plain": [
       "              raised_amount_usd\n",
       "country_code                   \n",
       "USA                420068029342\n",
       "CHN                 39338918773\n",
       "GBR                 20072813004\n",
       "IND                 14261508718\n",
       "CAN                  9482217668\n",
       "FRA                  7226851352\n",
       "ISR                  6854350477\n",
       "DEU                  6306921981\n",
       "JPN                  3167647127"
      ]
     },
     "execution_count": 19,
     "metadata": {},
     "output_type": "execute_result"
    }
   ],
   "source": [
    "top9 = master_frame.groupby('country_code').sum().sort_values('raised_amount_usd', ascending=False).head(9)\n",
    "top9['raised_amount_usd']= top9['raised_amount_usd'].astype('int64') \n",
    "top9.head(9)"
   ]
  },
  {
   "cell_type": "markdown",
   "metadata": {},
   "source": [
    "### The top three English-speaking countries in the data frame top9 : `USA`, `GBR`,  `IND`."
   ]
  },
  {
   "cell_type": "markdown",
   "metadata": {},
   "source": [
    "## Checkpoint 4: Sector Analysis 1"
   ]
  },
  {
   "cell_type": "code",
   "execution_count": 20,
   "metadata": {},
   "outputs": [
    {
     "data": {
      "text/html": [
       "<div>\n",
       "<style scoped>\n",
       "    .dataframe tbody tr th:only-of-type {\n",
       "        vertical-align: middle;\n",
       "    }\n",
       "\n",
       "    .dataframe tbody tr th {\n",
       "        vertical-align: top;\n",
       "    }\n",
       "\n",
       "    .dataframe thead th {\n",
       "        text-align: right;\n",
       "    }\n",
       "</style>\n",
       "<table border=\"1\" class=\"dataframe\">\n",
       "  <thead>\n",
       "    <tr style=\"text-align: right;\">\n",
       "      <th></th>\n",
       "      <th>permalink</th>\n",
       "      <th>name</th>\n",
       "      <th>category_list</th>\n",
       "      <th>country_code</th>\n",
       "      <th>funding_round_type</th>\n",
       "      <th>raised_amount_usd</th>\n",
       "    </tr>\n",
       "  </thead>\n",
       "  <tbody>\n",
       "    <tr>\n",
       "      <th>0</th>\n",
       "      <td>/organization/-fame</td>\n",
       "      <td>#fame</td>\n",
       "      <td>Media</td>\n",
       "      <td>IND</td>\n",
       "      <td>venture</td>\n",
       "      <td>10000000.0</td>\n",
       "    </tr>\n",
       "    <tr>\n",
       "      <th>4</th>\n",
       "      <td>/organization/0-6-com</td>\n",
       "      <td>0-6.com</td>\n",
       "      <td>Curated Web</td>\n",
       "      <td>CHN</td>\n",
       "      <td>venture</td>\n",
       "      <td>2000000.0</td>\n",
       "    </tr>\n",
       "    <tr>\n",
       "      <th>8</th>\n",
       "      <td>/organization/0ndine-biomedical-inc</td>\n",
       "      <td>Ondine Biomedical Inc.</td>\n",
       "      <td>Biotechnology</td>\n",
       "      <td>CAN</td>\n",
       "      <td>venture</td>\n",
       "      <td>719491.0</td>\n",
       "    </tr>\n",
       "    <tr>\n",
       "      <th>10</th>\n",
       "      <td>/organization/0xdata</td>\n",
       "      <td>H2O.ai</td>\n",
       "      <td>Analytics</td>\n",
       "      <td>USA</td>\n",
       "      <td>venture</td>\n",
       "      <td>20000000.0</td>\n",
       "    </tr>\n",
       "    <tr>\n",
       "      <th>11</th>\n",
       "      <td>/organization/0xdata</td>\n",
       "      <td>H2O.ai</td>\n",
       "      <td>Analytics</td>\n",
       "      <td>USA</td>\n",
       "      <td>venture</td>\n",
       "      <td>1700000.0</td>\n",
       "    </tr>\n",
       "  </tbody>\n",
       "</table>\n",
       "</div>"
      ],
      "text/plain": [
       "                              permalink                    name  \\\n",
       "0                   /organization/-fame                   #fame   \n",
       "4                 /organization/0-6-com                 0-6.com   \n",
       "8   /organization/0ndine-biomedical-inc  Ondine Biomedical Inc.   \n",
       "10                 /organization/0xdata                  H2O.ai   \n",
       "11                 /organization/0xdata                  H2O.ai   \n",
       "\n",
       "    category_list country_code funding_round_type  raised_amount_usd  \n",
       "0           Media          IND            venture         10000000.0  \n",
       "4     Curated Web          CHN            venture          2000000.0  \n",
       "8   Biotechnology          CAN            venture           719491.0  \n",
       "10      Analytics          USA            venture         20000000.0  \n",
       "11      Analytics          USA            venture          1700000.0  "
      ]
     },
     "execution_count": 20,
     "metadata": {},
     "output_type": "execute_result"
    }
   ],
   "source": [
    "master_frame.head()"
   ]
  },
  {
   "cell_type": "code",
   "execution_count": 21,
   "metadata": {},
   "outputs": [
    {
     "data": {
      "text/plain": [
       "0             Media\n",
       "4       Curated Web\n",
       "8     Biotechnology\n",
       "10        Analytics\n",
       "11        Analytics\n",
       "Name: 0, dtype: object"
      ]
     },
     "execution_count": 21,
     "metadata": {},
     "output_type": "execute_result"
    }
   ],
   "source": [
    "# Get the primary sector from category_list\n",
    "category_df =master_frame['category_list'].str.split('|',expand=True)[0]\n",
    "category_df.head()"
   ]
  },
  {
   "cell_type": "code",
   "execution_count": 22,
   "metadata": {},
   "outputs": [
    {
     "data": {
      "text/html": [
       "<div>\n",
       "<style scoped>\n",
       "    .dataframe tbody tr th:only-of-type {\n",
       "        vertical-align: middle;\n",
       "    }\n",
       "\n",
       "    .dataframe tbody tr th {\n",
       "        vertical-align: top;\n",
       "    }\n",
       "\n",
       "    .dataframe thead th {\n",
       "        text-align: right;\n",
       "    }\n",
       "</style>\n",
       "<table border=\"1\" class=\"dataframe\">\n",
       "  <thead>\n",
       "    <tr style=\"text-align: right;\">\n",
       "      <th></th>\n",
       "      <th>permalink</th>\n",
       "      <th>name</th>\n",
       "      <th>category_list</th>\n",
       "      <th>country_code</th>\n",
       "      <th>funding_round_type</th>\n",
       "      <th>raised_amount_usd</th>\n",
       "      <th>primary_sector</th>\n",
       "    </tr>\n",
       "  </thead>\n",
       "  <tbody>\n",
       "    <tr>\n",
       "      <th>0</th>\n",
       "      <td>/organization/-fame</td>\n",
       "      <td>#fame</td>\n",
       "      <td>Media</td>\n",
       "      <td>IND</td>\n",
       "      <td>venture</td>\n",
       "      <td>10000000.0</td>\n",
       "      <td>media</td>\n",
       "    </tr>\n",
       "    <tr>\n",
       "      <th>4</th>\n",
       "      <td>/organization/0-6-com</td>\n",
       "      <td>0-6.com</td>\n",
       "      <td>Curated Web</td>\n",
       "      <td>CHN</td>\n",
       "      <td>venture</td>\n",
       "      <td>2000000.0</td>\n",
       "      <td>curated web</td>\n",
       "    </tr>\n",
       "    <tr>\n",
       "      <th>8</th>\n",
       "      <td>/organization/0ndine-biomedical-inc</td>\n",
       "      <td>Ondine Biomedical Inc.</td>\n",
       "      <td>Biotechnology</td>\n",
       "      <td>CAN</td>\n",
       "      <td>venture</td>\n",
       "      <td>719491.0</td>\n",
       "      <td>biotechnology</td>\n",
       "    </tr>\n",
       "    <tr>\n",
       "      <th>10</th>\n",
       "      <td>/organization/0xdata</td>\n",
       "      <td>H2O.ai</td>\n",
       "      <td>Analytics</td>\n",
       "      <td>USA</td>\n",
       "      <td>venture</td>\n",
       "      <td>20000000.0</td>\n",
       "      <td>analytics</td>\n",
       "    </tr>\n",
       "    <tr>\n",
       "      <th>11</th>\n",
       "      <td>/organization/0xdata</td>\n",
       "      <td>H2O.ai</td>\n",
       "      <td>Analytics</td>\n",
       "      <td>USA</td>\n",
       "      <td>venture</td>\n",
       "      <td>1700000.0</td>\n",
       "      <td>analytics</td>\n",
       "    </tr>\n",
       "  </tbody>\n",
       "</table>\n",
       "</div>"
      ],
      "text/plain": [
       "                              permalink                    name  \\\n",
       "0                   /organization/-fame                   #fame   \n",
       "4                 /organization/0-6-com                 0-6.com   \n",
       "8   /organization/0ndine-biomedical-inc  Ondine Biomedical Inc.   \n",
       "10                 /organization/0xdata                  H2O.ai   \n",
       "11                 /organization/0xdata                  H2O.ai   \n",
       "\n",
       "    category_list country_code funding_round_type  raised_amount_usd  \\\n",
       "0           Media          IND            venture         10000000.0   \n",
       "4     Curated Web          CHN            venture          2000000.0   \n",
       "8   Biotechnology          CAN            venture           719491.0   \n",
       "10      Analytics          USA            venture         20000000.0   \n",
       "11      Analytics          USA            venture          1700000.0   \n",
       "\n",
       "   primary_sector  \n",
       "0           media  \n",
       "4     curated web  \n",
       "8   biotechnology  \n",
       "10      analytics  \n",
       "11      analytics  "
      ]
     },
     "execution_count": 22,
     "metadata": {},
     "output_type": "execute_result"
    }
   ],
   "source": [
    "# Adding the column named Primary_sectore in master_frame dataframe.\n",
    "master_frame['primary_sector']=category_df.str.lower()\n",
    "master_frame.head()"
   ]
  },
  {
   "cell_type": "code",
   "execution_count": 23,
   "metadata": {},
   "outputs": [],
   "source": [
    "# master_frame.primary_sector.unique()"
   ]
  },
  {
   "cell_type": "code",
   "execution_count": 24,
   "metadata": {},
   "outputs": [
    {
     "data": {
      "text/html": [
       "<div>\n",
       "<style scoped>\n",
       "    .dataframe tbody tr th:only-of-type {\n",
       "        vertical-align: middle;\n",
       "    }\n",
       "\n",
       "    .dataframe tbody tr th {\n",
       "        vertical-align: top;\n",
       "    }\n",
       "\n",
       "    .dataframe thead th {\n",
       "        text-align: right;\n",
       "    }\n",
       "</style>\n",
       "<table border=\"1\" class=\"dataframe\">\n",
       "  <thead>\n",
       "    <tr style=\"text-align: right;\">\n",
       "      <th></th>\n",
       "      <th>permalink</th>\n",
       "      <th>name</th>\n",
       "      <th>country_code</th>\n",
       "      <th>funding_round_type</th>\n",
       "      <th>raised_amount_usd</th>\n",
       "      <th>primary_sector</th>\n",
       "    </tr>\n",
       "  </thead>\n",
       "  <tbody>\n",
       "    <tr>\n",
       "      <th>0</th>\n",
       "      <td>/organization/-fame</td>\n",
       "      <td>#fame</td>\n",
       "      <td>IND</td>\n",
       "      <td>venture</td>\n",
       "      <td>10000000.0</td>\n",
       "      <td>media</td>\n",
       "    </tr>\n",
       "    <tr>\n",
       "      <th>4</th>\n",
       "      <td>/organization/0-6-com</td>\n",
       "      <td>0-6.com</td>\n",
       "      <td>CHN</td>\n",
       "      <td>venture</td>\n",
       "      <td>2000000.0</td>\n",
       "      <td>curated web</td>\n",
       "    </tr>\n",
       "    <tr>\n",
       "      <th>8</th>\n",
       "      <td>/organization/0ndine-biomedical-inc</td>\n",
       "      <td>Ondine Biomedical Inc.</td>\n",
       "      <td>CAN</td>\n",
       "      <td>venture</td>\n",
       "      <td>719491.0</td>\n",
       "      <td>biotechnology</td>\n",
       "    </tr>\n",
       "  </tbody>\n",
       "</table>\n",
       "</div>"
      ],
      "text/plain": [
       "                             permalink                    name country_code  \\\n",
       "0                  /organization/-fame                   #fame          IND   \n",
       "4                /organization/0-6-com                 0-6.com          CHN   \n",
       "8  /organization/0ndine-biomedical-inc  Ondine Biomedical Inc.          CAN   \n",
       "\n",
       "  funding_round_type  raised_amount_usd primary_sector  \n",
       "0            venture         10000000.0          media  \n",
       "4            venture          2000000.0    curated web  \n",
       "8            venture           719491.0  biotechnology  "
      ]
     },
     "execution_count": 24,
     "metadata": {},
     "output_type": "execute_result"
    }
   ],
   "source": [
    "# Droping the column named category_list\n",
    "master_frame =master_frame.drop(['category_list'], axis = 1)\n",
    "master_frame.head(3)"
   ]
  },
  {
   "cell_type": "code",
   "execution_count": 25,
   "metadata": {},
   "outputs": [
    {
     "data": {
      "text/plain": [
       "(47809, 6)"
      ]
     },
     "execution_count": 25,
     "metadata": {},
     "output_type": "execute_result"
    }
   ],
   "source": [
    "master_frame.shape"
   ]
  },
  {
   "cell_type": "code",
   "execution_count": 26,
   "metadata": {},
   "outputs": [
    {
     "data": {
      "text/html": [
       "<div>\n",
       "<style scoped>\n",
       "    .dataframe tbody tr th:only-of-type {\n",
       "        vertical-align: middle;\n",
       "    }\n",
       "\n",
       "    .dataframe tbody tr th {\n",
       "        vertical-align: top;\n",
       "    }\n",
       "\n",
       "    .dataframe thead th {\n",
       "        text-align: right;\n",
       "    }\n",
       "</style>\n",
       "<table border=\"1\" class=\"dataframe\">\n",
       "  <thead>\n",
       "    <tr style=\"text-align: right;\">\n",
       "      <th></th>\n",
       "      <th>category_list</th>\n",
       "      <th>Automotive &amp; Sports</th>\n",
       "      <th>Blanks</th>\n",
       "      <th>Cleantech / Semiconductors</th>\n",
       "      <th>Entertainment</th>\n",
       "      <th>Health</th>\n",
       "      <th>Manufacturing</th>\n",
       "      <th>News, Search and Messaging</th>\n",
       "      <th>Others</th>\n",
       "      <th>Social, Finance, Analytics, Advertising</th>\n",
       "    </tr>\n",
       "  </thead>\n",
       "  <tbody>\n",
       "    <tr>\n",
       "      <th>0</th>\n",
       "      <td>NaN</td>\n",
       "      <td>0</td>\n",
       "      <td>1</td>\n",
       "      <td>0</td>\n",
       "      <td>0</td>\n",
       "      <td>0</td>\n",
       "      <td>0</td>\n",
       "      <td>0</td>\n",
       "      <td>0</td>\n",
       "      <td>0</td>\n",
       "    </tr>\n",
       "    <tr>\n",
       "      <th>1</th>\n",
       "      <td>3D</td>\n",
       "      <td>0</td>\n",
       "      <td>0</td>\n",
       "      <td>0</td>\n",
       "      <td>0</td>\n",
       "      <td>0</td>\n",
       "      <td>1</td>\n",
       "      <td>0</td>\n",
       "      <td>0</td>\n",
       "      <td>0</td>\n",
       "    </tr>\n",
       "    <tr>\n",
       "      <th>2</th>\n",
       "      <td>3D Printing</td>\n",
       "      <td>0</td>\n",
       "      <td>0</td>\n",
       "      <td>0</td>\n",
       "      <td>0</td>\n",
       "      <td>0</td>\n",
       "      <td>1</td>\n",
       "      <td>0</td>\n",
       "      <td>0</td>\n",
       "      <td>0</td>\n",
       "    </tr>\n",
       "    <tr>\n",
       "      <th>3</th>\n",
       "      <td>3D Technology</td>\n",
       "      <td>0</td>\n",
       "      <td>0</td>\n",
       "      <td>0</td>\n",
       "      <td>0</td>\n",
       "      <td>0</td>\n",
       "      <td>1</td>\n",
       "      <td>0</td>\n",
       "      <td>0</td>\n",
       "      <td>0</td>\n",
       "    </tr>\n",
       "    <tr>\n",
       "      <th>4</th>\n",
       "      <td>Accounting</td>\n",
       "      <td>0</td>\n",
       "      <td>0</td>\n",
       "      <td>0</td>\n",
       "      <td>0</td>\n",
       "      <td>0</td>\n",
       "      <td>0</td>\n",
       "      <td>0</td>\n",
       "      <td>0</td>\n",
       "      <td>1</td>\n",
       "    </tr>\n",
       "  </tbody>\n",
       "</table>\n",
       "</div>"
      ],
      "text/plain": [
       "   category_list  Automotive & Sports  Blanks  Cleantech / Semiconductors  \\\n",
       "0            NaN                    0       1                           0   \n",
       "1             3D                    0       0                           0   \n",
       "2    3D Printing                    0       0                           0   \n",
       "3  3D Technology                    0       0                           0   \n",
       "4     Accounting                    0       0                           0   \n",
       "\n",
       "   Entertainment  Health  Manufacturing  News, Search and Messaging  Others  \\\n",
       "0              0       0              0                           0       0   \n",
       "1              0       0              1                           0       0   \n",
       "2              0       0              1                           0       0   \n",
       "3              0       0              1                           0       0   \n",
       "4              0       0              0                           0       0   \n",
       "\n",
       "   Social, Finance, Analytics, Advertising  \n",
       "0                                        0  \n",
       "1                                        0  \n",
       "2                                        0  \n",
       "3                                        0  \n",
       "4                                        1  "
      ]
     },
     "execution_count": 26,
     "metadata": {},
     "output_type": "execute_result"
    }
   ],
   "source": [
    "mapping_df.head()"
   ]
  },
  {
   "cell_type": "code",
   "execution_count": 27,
   "metadata": {},
   "outputs": [
    {
     "data": {
      "text/html": [
       "<div>\n",
       "<style scoped>\n",
       "    .dataframe tbody tr th:only-of-type {\n",
       "        vertical-align: middle;\n",
       "    }\n",
       "\n",
       "    .dataframe tbody tr th {\n",
       "        vertical-align: top;\n",
       "    }\n",
       "\n",
       "    .dataframe thead th {\n",
       "        text-align: right;\n",
       "    }\n",
       "</style>\n",
       "<table border=\"1\" class=\"dataframe\">\n",
       "  <thead>\n",
       "    <tr style=\"text-align: right;\">\n",
       "      <th></th>\n",
       "      <th>category_list</th>\n",
       "      <th>main_sector</th>\n",
       "      <th>value</th>\n",
       "    </tr>\n",
       "  </thead>\n",
       "  <tbody>\n",
       "    <tr>\n",
       "      <th>0</th>\n",
       "      <td>NaN</td>\n",
       "      <td>Automotive &amp; Sports</td>\n",
       "      <td>0</td>\n",
       "    </tr>\n",
       "    <tr>\n",
       "      <th>1</th>\n",
       "      <td>3D</td>\n",
       "      <td>Automotive &amp; Sports</td>\n",
       "      <td>0</td>\n",
       "    </tr>\n",
       "    <tr>\n",
       "      <th>2</th>\n",
       "      <td>3D Printing</td>\n",
       "      <td>Automotive &amp; Sports</td>\n",
       "      <td>0</td>\n",
       "    </tr>\n",
       "    <tr>\n",
       "      <th>3</th>\n",
       "      <td>3D Technology</td>\n",
       "      <td>Automotive &amp; Sports</td>\n",
       "      <td>0</td>\n",
       "    </tr>\n",
       "    <tr>\n",
       "      <th>4</th>\n",
       "      <td>Accounting</td>\n",
       "      <td>Automotive &amp; Sports</td>\n",
       "      <td>0</td>\n",
       "    </tr>\n",
       "  </tbody>\n",
       "</table>\n",
       "</div>"
      ],
      "text/plain": [
       "   category_list          main_sector  value\n",
       "0            NaN  Automotive & Sports      0\n",
       "1             3D  Automotive & Sports      0\n",
       "2    3D Printing  Automotive & Sports      0\n",
       "3  3D Technology  Automotive & Sports      0\n",
       "4     Accounting  Automotive & Sports      0"
      ]
     },
     "execution_count": 27,
     "metadata": {},
     "output_type": "execute_result"
    }
   ],
   "source": [
    "#  Converting the column matrix to row matrix using MELT function.\n",
    "mapping_df =pd.melt(mapping_df,id_vars=['category_list'],var_name=[\"main_sector\"],value_vars=['Automotive & Sports','Cleantech / Semiconductors',\n",
    "                           'Entertainment', 'Health', 'Manufacturing','News, Search and Messaging', 'Others',\n",
    "                           'Social, Finance, Analytics, Advertising'])\n",
    "mapping_df.head()"
   ]
  },
  {
   "cell_type": "code",
   "execution_count": 28,
   "metadata": {},
   "outputs": [
    {
     "data": {
      "text/plain": [
       "array(['Automotive & Sports', 'Cleantech / Semiconductors',\n",
       "       'Entertainment', 'Health', 'Manufacturing',\n",
       "       'News, Search and Messaging', 'Others',\n",
       "       'Social, Finance, Analytics, Advertising'], dtype=object)"
      ]
     },
     "execution_count": 28,
     "metadata": {},
     "output_type": "execute_result"
    }
   ],
   "source": [
    "mapping_df.main_sector.unique()"
   ]
  },
  {
   "cell_type": "code",
   "execution_count": 29,
   "metadata": {},
   "outputs": [],
   "source": [
    "# Removing the rows with 0 values as you are interested in only rows with value=1\n",
    "mapping_df = mapping_df[~(mapping_df[\"value\"]==0) ]\n"
   ]
  },
  {
   "cell_type": "code",
   "execution_count": 30,
   "metadata": {},
   "outputs": [],
   "source": [
    "#check the column category_list and rename for merger primary_sector\n",
    "mapping_df['category_list']= mapping_df['category_list'].str.lower()\n",
    "# mapping_df= mapping_df.rename(columns={\"category_list\":\"primary_sector\"})\n",
    "#remove the values column from dataframe\n",
    "# mapping_df = mapping_df.drop(['value'], axis=1)"
   ]
  },
  {
   "cell_type": "code",
   "execution_count": 31,
   "metadata": {},
   "outputs": [
    {
     "data": {
      "text/html": [
       "<div>\n",
       "<style scoped>\n",
       "    .dataframe tbody tr th:only-of-type {\n",
       "        vertical-align: middle;\n",
       "    }\n",
       "\n",
       "    .dataframe tbody tr th {\n",
       "        vertical-align: top;\n",
       "    }\n",
       "\n",
       "    .dataframe thead th {\n",
       "        text-align: right;\n",
       "    }\n",
       "</style>\n",
       "<table border=\"1\" class=\"dataframe\">\n",
       "  <thead>\n",
       "    <tr style=\"text-align: right;\">\n",
       "      <th></th>\n",
       "      <th>category_list</th>\n",
       "      <th>main_sector</th>\n",
       "      <th>value</th>\n",
       "    </tr>\n",
       "  </thead>\n",
       "  <tbody>\n",
       "    <tr>\n",
       "      <th>8</th>\n",
       "      <td>adventure travel</td>\n",
       "      <td>Automotive &amp; Sports</td>\n",
       "      <td>1</td>\n",
       "    </tr>\n",
       "    <tr>\n",
       "      <th>14</th>\n",
       "      <td>aerospace</td>\n",
       "      <td>Automotive &amp; Sports</td>\n",
       "      <td>1</td>\n",
       "    </tr>\n",
       "    <tr>\n",
       "      <th>45</th>\n",
       "      <td>auto</td>\n",
       "      <td>Automotive &amp; Sports</td>\n",
       "      <td>1</td>\n",
       "    </tr>\n",
       "    <tr>\n",
       "      <th>46</th>\n",
       "      <td>automated kiosk</td>\n",
       "      <td>Automotive &amp; Sports</td>\n",
       "      <td>1</td>\n",
       "    </tr>\n",
       "    <tr>\n",
       "      <th>47</th>\n",
       "      <td>automotive</td>\n",
       "      <td>Automotive &amp; Sports</td>\n",
       "      <td>1</td>\n",
       "    </tr>\n",
       "  </tbody>\n",
       "</table>\n",
       "</div>"
      ],
      "text/plain": [
       "       category_list          main_sector  value\n",
       "8   adventure travel  Automotive & Sports      1\n",
       "14         aerospace  Automotive & Sports      1\n",
       "45              auto  Automotive & Sports      1\n",
       "46   automated kiosk  Automotive & Sports      1\n",
       "47        automotive  Automotive & Sports      1"
      ]
     },
     "execution_count": 31,
     "metadata": {},
     "output_type": "execute_result"
    }
   ],
   "source": [
    "mapping_df.head()"
   ]
  },
  {
   "cell_type": "code",
   "execution_count": 32,
   "metadata": {},
   "outputs": [
    {
     "data": {
      "text/plain": [
       "category_list    0.0\n",
       "main_sector      0.0\n",
       "value            0.0\n",
       "dtype: float64"
      ]
     },
     "execution_count": 32,
     "metadata": {},
     "output_type": "execute_result"
    }
   ],
   "source": [
    "round(mapping_df.isnull().sum()/len(mapping_df)*100,2)"
   ]
  },
  {
   "cell_type": "code",
   "execution_count": 33,
   "metadata": {},
   "outputs": [
    {
     "data": {
      "text/plain": [
       "permalink             0.0\n",
       "name                  0.0\n",
       "country_code          0.0\n",
       "funding_round_type    0.0\n",
       "raised_amount_usd     0.0\n",
       "primary_sector        0.0\n",
       "dtype: float64"
      ]
     },
     "execution_count": 33,
     "metadata": {},
     "output_type": "execute_result"
    }
   ],
   "source": [
    "round(master_frame.isnull().sum()/len(master_frame)*100,2)"
   ]
  },
  {
   "cell_type": "code",
   "execution_count": 34,
   "metadata": {},
   "outputs": [
    {
     "data": {
      "text/plain": [
       "(47809, 6)"
      ]
     },
     "execution_count": 34,
     "metadata": {},
     "output_type": "execute_result"
    }
   ],
   "source": [
    "master_frame.shape"
   ]
  },
  {
   "cell_type": "code",
   "execution_count": 35,
   "metadata": {},
   "outputs": [],
   "source": [
    "master_frame= pd.merge(master_frame,mapping_df,left_on='primary_sector',right_on='category_list',how='left')"
   ]
  },
  {
   "cell_type": "code",
   "execution_count": 36,
   "metadata": {},
   "outputs": [
    {
     "data": {
      "text/html": [
       "<div>\n",
       "<style scoped>\n",
       "    .dataframe tbody tr th:only-of-type {\n",
       "        vertical-align: middle;\n",
       "    }\n",
       "\n",
       "    .dataframe tbody tr th {\n",
       "        vertical-align: top;\n",
       "    }\n",
       "\n",
       "    .dataframe thead th {\n",
       "        text-align: right;\n",
       "    }\n",
       "</style>\n",
       "<table border=\"1\" class=\"dataframe\">\n",
       "  <thead>\n",
       "    <tr style=\"text-align: right;\">\n",
       "      <th></th>\n",
       "      <th>permalink</th>\n",
       "      <th>name</th>\n",
       "      <th>country_code</th>\n",
       "      <th>funding_round_type</th>\n",
       "      <th>raised_amount_usd</th>\n",
       "      <th>primary_sector</th>\n",
       "      <th>category_list</th>\n",
       "      <th>main_sector</th>\n",
       "      <th>value</th>\n",
       "    </tr>\n",
       "  </thead>\n",
       "  <tbody>\n",
       "    <tr>\n",
       "      <th>0</th>\n",
       "      <td>/organization/-fame</td>\n",
       "      <td>#fame</td>\n",
       "      <td>IND</td>\n",
       "      <td>venture</td>\n",
       "      <td>10000000.0</td>\n",
       "      <td>media</td>\n",
       "      <td>media</td>\n",
       "      <td>Entertainment</td>\n",
       "      <td>1.0</td>\n",
       "    </tr>\n",
       "    <tr>\n",
       "      <th>1</th>\n",
       "      <td>/organization/0-6-com</td>\n",
       "      <td>0-6.com</td>\n",
       "      <td>CHN</td>\n",
       "      <td>venture</td>\n",
       "      <td>2000000.0</td>\n",
       "      <td>curated web</td>\n",
       "      <td>curated web</td>\n",
       "      <td>News, Search and Messaging</td>\n",
       "      <td>1.0</td>\n",
       "    </tr>\n",
       "    <tr>\n",
       "      <th>2</th>\n",
       "      <td>/organization/0ndine-biomedical-inc</td>\n",
       "      <td>Ondine Biomedical Inc.</td>\n",
       "      <td>CAN</td>\n",
       "      <td>venture</td>\n",
       "      <td>719491.0</td>\n",
       "      <td>biotechnology</td>\n",
       "      <td>biotechnology</td>\n",
       "      <td>Cleantech / Semiconductors</td>\n",
       "      <td>1.0</td>\n",
       "    </tr>\n",
       "    <tr>\n",
       "      <th>3</th>\n",
       "      <td>/organization/0xdata</td>\n",
       "      <td>H2O.ai</td>\n",
       "      <td>USA</td>\n",
       "      <td>venture</td>\n",
       "      <td>20000000.0</td>\n",
       "      <td>analytics</td>\n",
       "      <td>NaN</td>\n",
       "      <td>NaN</td>\n",
       "      <td>NaN</td>\n",
       "    </tr>\n",
       "    <tr>\n",
       "      <th>4</th>\n",
       "      <td>/organization/0xdata</td>\n",
       "      <td>H2O.ai</td>\n",
       "      <td>USA</td>\n",
       "      <td>venture</td>\n",
       "      <td>1700000.0</td>\n",
       "      <td>analytics</td>\n",
       "      <td>NaN</td>\n",
       "      <td>NaN</td>\n",
       "      <td>NaN</td>\n",
       "    </tr>\n",
       "  </tbody>\n",
       "</table>\n",
       "</div>"
      ],
      "text/plain": [
       "                             permalink                    name country_code  \\\n",
       "0                  /organization/-fame                   #fame          IND   \n",
       "1                /organization/0-6-com                 0-6.com          CHN   \n",
       "2  /organization/0ndine-biomedical-inc  Ondine Biomedical Inc.          CAN   \n",
       "3                 /organization/0xdata                  H2O.ai          USA   \n",
       "4                 /organization/0xdata                  H2O.ai          USA   \n",
       "\n",
       "  funding_round_type  raised_amount_usd primary_sector  category_list  \\\n",
       "0            venture         10000000.0          media          media   \n",
       "1            venture          2000000.0    curated web    curated web   \n",
       "2            venture           719491.0  biotechnology  biotechnology   \n",
       "3            venture         20000000.0      analytics            NaN   \n",
       "4            venture          1700000.0      analytics            NaN   \n",
       "\n",
       "                  main_sector  value  \n",
       "0               Entertainment    1.0  \n",
       "1  News, Search and Messaging    1.0  \n",
       "2  Cleantech / Semiconductors    1.0  \n",
       "3                         NaN    NaN  \n",
       "4                         NaN    NaN  "
      ]
     },
     "execution_count": 36,
     "metadata": {},
     "output_type": "execute_result"
    }
   ],
   "source": [
    "master_frame.head()"
   ]
  },
  {
   "cell_type": "code",
   "execution_count": 37,
   "metadata": {},
   "outputs": [
    {
     "data": {
      "text/plain": [
       "permalink             0.00\n",
       "name                  0.00\n",
       "country_code          0.00\n",
       "funding_round_type    0.00\n",
       "raised_amount_usd     0.00\n",
       "primary_sector        0.00\n",
       "category_list         6.52\n",
       "main_sector           6.52\n",
       "value                 6.52\n",
       "dtype: float64"
      ]
     },
     "execution_count": 37,
     "metadata": {},
     "output_type": "execute_result"
    }
   ],
   "source": [
    "round(master_frame.isnull().sum()/len(master_frame)*100,2)"
   ]
  },
  {
   "cell_type": "code",
   "execution_count": 38,
   "metadata": {},
   "outputs": [
    {
     "data": {
      "text/plain": [
       "3117"
      ]
     },
     "execution_count": 38,
     "metadata": {},
     "output_type": "execute_result"
    }
   ],
   "source": [
    "#Number of rows with NaN masin_sector value\n",
    "len(master_frame[master_frame.main_sector.isnull()])"
   ]
  },
  {
   "cell_type": "code",
   "execution_count": 39,
   "metadata": {},
   "outputs": [
    {
     "data": {
      "text/plain": [
       "44692"
      ]
     },
     "execution_count": 39,
     "metadata": {},
     "output_type": "execute_result"
    }
   ],
   "source": [
    "master_frame = master_frame[~(master_frame.main_sector.isnull())]\n",
    "len(master_frame.index)"
   ]
  },
  {
   "cell_type": "code",
   "execution_count": 40,
   "metadata": {},
   "outputs": [],
   "source": [
    "master_frame = master_frame.drop(['value','category_list'], axis=1)\n"
   ]
  },
  {
   "cell_type": "code",
   "execution_count": 41,
   "metadata": {},
   "outputs": [
    {
     "data": {
      "text/html": [
       "<div>\n",
       "<style scoped>\n",
       "    .dataframe tbody tr th:only-of-type {\n",
       "        vertical-align: middle;\n",
       "    }\n",
       "\n",
       "    .dataframe tbody tr th {\n",
       "        vertical-align: top;\n",
       "    }\n",
       "\n",
       "    .dataframe thead th {\n",
       "        text-align: right;\n",
       "    }\n",
       "</style>\n",
       "<table border=\"1\" class=\"dataframe\">\n",
       "  <thead>\n",
       "    <tr style=\"text-align: right;\">\n",
       "      <th></th>\n",
       "      <th>permalink</th>\n",
       "      <th>name</th>\n",
       "      <th>country_code</th>\n",
       "      <th>funding_round_type</th>\n",
       "      <th>raised_amount_usd</th>\n",
       "      <th>primary_sector</th>\n",
       "      <th>main_sector</th>\n",
       "    </tr>\n",
       "  </thead>\n",
       "  <tbody>\n",
       "    <tr>\n",
       "      <th>0</th>\n",
       "      <td>/organization/-fame</td>\n",
       "      <td>#fame</td>\n",
       "      <td>IND</td>\n",
       "      <td>venture</td>\n",
       "      <td>10000000.0</td>\n",
       "      <td>media</td>\n",
       "      <td>Entertainment</td>\n",
       "    </tr>\n",
       "    <tr>\n",
       "      <th>1</th>\n",
       "      <td>/organization/0-6-com</td>\n",
       "      <td>0-6.com</td>\n",
       "      <td>CHN</td>\n",
       "      <td>venture</td>\n",
       "      <td>2000000.0</td>\n",
       "      <td>curated web</td>\n",
       "      <td>News, Search and Messaging</td>\n",
       "    </tr>\n",
       "    <tr>\n",
       "      <th>2</th>\n",
       "      <td>/organization/0ndine-biomedical-inc</td>\n",
       "      <td>Ondine Biomedical Inc.</td>\n",
       "      <td>CAN</td>\n",
       "      <td>venture</td>\n",
       "      <td>719491.0</td>\n",
       "      <td>biotechnology</td>\n",
       "      <td>Cleantech / Semiconductors</td>\n",
       "    </tr>\n",
       "    <tr>\n",
       "      <th>6</th>\n",
       "      <td>/organization/1-mainstream</td>\n",
       "      <td>1 Mainstream</td>\n",
       "      <td>USA</td>\n",
       "      <td>venture</td>\n",
       "      <td>5000000.0</td>\n",
       "      <td>apps</td>\n",
       "      <td>News, Search and Messaging</td>\n",
       "    </tr>\n",
       "    <tr>\n",
       "      <th>7</th>\n",
       "      <td>/organization/10-minutes-with</td>\n",
       "      <td>10 Minutes With</td>\n",
       "      <td>GBR</td>\n",
       "      <td>venture</td>\n",
       "      <td>4000000.0</td>\n",
       "      <td>education</td>\n",
       "      <td>Others</td>\n",
       "    </tr>\n",
       "  </tbody>\n",
       "</table>\n",
       "</div>"
      ],
      "text/plain": [
       "                             permalink                    name country_code  \\\n",
       "0                  /organization/-fame                   #fame          IND   \n",
       "1                /organization/0-6-com                 0-6.com          CHN   \n",
       "2  /organization/0ndine-biomedical-inc  Ondine Biomedical Inc.          CAN   \n",
       "6           /organization/1-mainstream            1 Mainstream          USA   \n",
       "7        /organization/10-minutes-with         10 Minutes With          GBR   \n",
       "\n",
       "  funding_round_type  raised_amount_usd primary_sector  \\\n",
       "0            venture         10000000.0          media   \n",
       "1            venture          2000000.0    curated web   \n",
       "2            venture           719491.0  biotechnology   \n",
       "6            venture          5000000.0           apps   \n",
       "7            venture          4000000.0      education   \n",
       "\n",
       "                  main_sector  \n",
       "0               Entertainment  \n",
       "1  News, Search and Messaging  \n",
       "2  Cleantech / Semiconductors  \n",
       "6  News, Search and Messaging  \n",
       "7                      Others  "
      ]
     },
     "execution_count": 41,
     "metadata": {},
     "output_type": "execute_result"
    }
   ],
   "source": [
    "master_frame.head()"
   ]
  },
  {
   "cell_type": "markdown",
   "metadata": {},
   "source": [
    "### Checkpoint 5: Sector Analysis 2"
   ]
  },
  {
   "cell_type": "code",
   "execution_count": 42,
   "metadata": {},
   "outputs": [
    {
     "data": {
      "text/plain": [
       "array(['Entertainment', 'News, Search and Messaging',\n",
       "       'Cleantech / Semiconductors', 'Others', 'Health',\n",
       "       'Social, Finance, Analytics, Advertising', 'Manufacturing',\n",
       "       'Automotive & Sports'], dtype=object)"
      ]
     },
     "execution_count": 42,
     "metadata": {},
     "output_type": "execute_result"
    }
   ],
   "source": [
    "master_frame.main_sector.unique()"
   ]
  },
  {
   "cell_type": "code",
   "execution_count": 43,
   "metadata": {},
   "outputs": [
    {
     "data": {
      "text/html": [
       "<div>\n",
       "<style scoped>\n",
       "    .dataframe tbody tr th:only-of-type {\n",
       "        vertical-align: middle;\n",
       "    }\n",
       "\n",
       "    .dataframe tbody tr th {\n",
       "        vertical-align: top;\n",
       "    }\n",
       "\n",
       "    .dataframe thead th {\n",
       "        text-align: right;\n",
       "    }\n",
       "</style>\n",
       "<table border=\"1\" class=\"dataframe\">\n",
       "  <thead>\n",
       "    <tr style=\"text-align: right;\">\n",
       "      <th></th>\n",
       "      <th>permalink</th>\n",
       "      <th>name</th>\n",
       "      <th>country_code</th>\n",
       "      <th>funding_round_type</th>\n",
       "      <th>raised_amount_usd</th>\n",
       "      <th>primary_sector</th>\n",
       "      <th>main_sector</th>\n",
       "    </tr>\n",
       "  </thead>\n",
       "  <tbody>\n",
       "    <tr>\n",
       "      <th>0</th>\n",
       "      <td>/organization/-fame</td>\n",
       "      <td>#fame</td>\n",
       "      <td>IND</td>\n",
       "      <td>venture</td>\n",
       "      <td>10000000.0</td>\n",
       "      <td>media</td>\n",
       "      <td>Entertainment</td>\n",
       "    </tr>\n",
       "    <tr>\n",
       "      <th>6</th>\n",
       "      <td>/organization/1-mainstream</td>\n",
       "      <td>1 Mainstream</td>\n",
       "      <td>USA</td>\n",
       "      <td>venture</td>\n",
       "      <td>5000000.0</td>\n",
       "      <td>apps</td>\n",
       "      <td>News, Search and Messaging</td>\n",
       "    </tr>\n",
       "    <tr>\n",
       "      <th>13</th>\n",
       "      <td>/organization/1001-menus</td>\n",
       "      <td>ZenChef</td>\n",
       "      <td>FRA</td>\n",
       "      <td>venture</td>\n",
       "      <td>6602694.0</td>\n",
       "      <td>local businesses</td>\n",
       "      <td>Others</td>\n",
       "    </tr>\n",
       "    <tr>\n",
       "      <th>16</th>\n",
       "      <td>/organization/1001pharmacies-com</td>\n",
       "      <td>1001pharmacies.com</td>\n",
       "      <td>FRA</td>\n",
       "      <td>venture</td>\n",
       "      <td>8900000.0</td>\n",
       "      <td>cosmetics</td>\n",
       "      <td>Health</td>\n",
       "    </tr>\n",
       "    <tr>\n",
       "      <th>17</th>\n",
       "      <td>/organization/1006-tv</td>\n",
       "      <td>1006.tv</td>\n",
       "      <td>CHN</td>\n",
       "      <td>venture</td>\n",
       "      <td>10000000.0</td>\n",
       "      <td>games</td>\n",
       "      <td>Entertainment</td>\n",
       "    </tr>\n",
       "  </tbody>\n",
       "</table>\n",
       "</div>"
      ],
      "text/plain": [
       "                           permalink                name country_code  \\\n",
       "0                /organization/-fame               #fame          IND   \n",
       "6         /organization/1-mainstream        1 Mainstream          USA   \n",
       "13          /organization/1001-menus             ZenChef          FRA   \n",
       "16  /organization/1001pharmacies-com  1001pharmacies.com          FRA   \n",
       "17             /organization/1006-tv             1006.tv          CHN   \n",
       "\n",
       "   funding_round_type  raised_amount_usd    primary_sector  \\\n",
       "0             venture         10000000.0             media   \n",
       "6             venture          5000000.0              apps   \n",
       "13            venture          6602694.0  local businesses   \n",
       "16            venture          8900000.0         cosmetics   \n",
       "17            venture         10000000.0             games   \n",
       "\n",
       "                   main_sector  \n",
       "0                Entertainment  \n",
       "6   News, Search and Messaging  \n",
       "13                      Others  \n",
       "16                      Health  \n",
       "17               Entertainment  "
      ]
     },
     "execution_count": 43,
     "metadata": {},
     "output_type": "execute_result"
    }
   ],
   "source": [
    "# applied range 5 to 15 million on master_frame.\n",
    "\n",
    "master_frame = master_frame[(master_frame['raised_amount_usd']>= 5000000) & (master_frame['raised_amount_usd']<=15000000)]\n",
    "master_frame.head()\n",
    "\n"
   ]
  },
  {
   "cell_type": "code",
   "execution_count": 44,
   "metadata": {},
   "outputs": [
    {
     "data": {
      "text/plain": [
       "(14613, 7)"
      ]
     },
     "execution_count": 44,
     "metadata": {},
     "output_type": "execute_result"
    }
   ],
   "source": [
    "master_frame.shape\n"
   ]
  },
  {
   "cell_type": "code",
   "execution_count": 45,
   "metadata": {},
   "outputs": [],
   "source": [
    "D1=master_frame[(master_frame.country_code =='USA')]\n",
    "D2=master_frame[(master_frame.country_code =='GBR')]\n",
    "D3=master_frame[(master_frame.country_code =='IND')]"
   ]
  },
  {
   "cell_type": "code",
   "execution_count": 46,
   "metadata": {},
   "outputs": [
    {
     "name": "stdout",
     "output_type": "stream",
     "text": [
      "11149\n",
      "577\n",
      "299\n"
     ]
    }
   ],
   "source": [
    "\n",
    "print(D1.raised_amount_usd.count())\n",
    "print(D2.raised_amount_usd.count())\n",
    "print(D3.raised_amount_usd.count())"
   ]
  },
  {
   "cell_type": "code",
   "execution_count": 47,
   "metadata": {},
   "outputs": [
    {
     "name": "stdout",
     "output_type": "stream",
     "text": [
      "99661524549.0\n",
      "5028704358.0\n",
      "2683537552.0\n"
     ]
    }
   ],
   "source": [
    "#Total number of investments (count)\n",
    "print(D1.raised_amount_usd.sum())\n",
    "print(D2.raised_amount_usd.sum())\n",
    "print(D3.raised_amount_usd.sum())"
   ]
  },
  {
   "cell_type": "code",
   "execution_count": 48,
   "metadata": {},
   "outputs": [
    {
     "data": {
      "text/html": [
       "<div>\n",
       "<style scoped>\n",
       "    .dataframe tbody tr th:only-of-type {\n",
       "        vertical-align: middle;\n",
       "    }\n",
       "\n",
       "    .dataframe tbody tr th {\n",
       "        vertical-align: top;\n",
       "    }\n",
       "\n",
       "    .dataframe thead th {\n",
       "        text-align: right;\n",
       "    }\n",
       "</style>\n",
       "<table border=\"1\" class=\"dataframe\">\n",
       "  <thead>\n",
       "    <tr style=\"text-align: right;\">\n",
       "      <th></th>\n",
       "      <th>permalink</th>\n",
       "      <th>name</th>\n",
       "      <th>country_code</th>\n",
       "      <th>funding_round_type</th>\n",
       "      <th>raised_amount_usd</th>\n",
       "      <th>primary_sector</th>\n",
       "      <th>main_sector</th>\n",
       "    </tr>\n",
       "  </thead>\n",
       "  <tbody>\n",
       "    <tr>\n",
       "      <th>6</th>\n",
       "      <td>/organization/1-mainstream</td>\n",
       "      <td>1 Mainstream</td>\n",
       "      <td>USA</td>\n",
       "      <td>venture</td>\n",
       "      <td>5000000.0</td>\n",
       "      <td>apps</td>\n",
       "      <td>News, Search and Messaging</td>\n",
       "    </tr>\n",
       "    <tr>\n",
       "      <th>29</th>\n",
       "      <td>/organization/128-technology</td>\n",
       "      <td>128 Technology</td>\n",
       "      <td>USA</td>\n",
       "      <td>venture</td>\n",
       "      <td>11999347.0</td>\n",
       "      <td>service providers</td>\n",
       "      <td>Others</td>\n",
       "    </tr>\n",
       "    <tr>\n",
       "      <th>33</th>\n",
       "      <td>/organization/1366-technologies</td>\n",
       "      <td>1366 Technologies</td>\n",
       "      <td>USA</td>\n",
       "      <td>venture</td>\n",
       "      <td>15000000.0</td>\n",
       "      <td>manufacturing</td>\n",
       "      <td>Manufacturing</td>\n",
       "    </tr>\n",
       "    <tr>\n",
       "      <th>34</th>\n",
       "      <td>/organization/1366-technologies</td>\n",
       "      <td>1366 Technologies</td>\n",
       "      <td>USA</td>\n",
       "      <td>venture</td>\n",
       "      <td>5000000.0</td>\n",
       "      <td>manufacturing</td>\n",
       "      <td>Manufacturing</td>\n",
       "    </tr>\n",
       "    <tr>\n",
       "      <th>35</th>\n",
       "      <td>/organization/1366-technologies</td>\n",
       "      <td>1366 Technologies</td>\n",
       "      <td>USA</td>\n",
       "      <td>venture</td>\n",
       "      <td>5150000.0</td>\n",
       "      <td>manufacturing</td>\n",
       "      <td>Manufacturing</td>\n",
       "    </tr>\n",
       "  </tbody>\n",
       "</table>\n",
       "</div>"
      ],
      "text/plain": [
       "                          permalink               name country_code  \\\n",
       "6        /organization/1-mainstream       1 Mainstream          USA   \n",
       "29     /organization/128-technology     128 Technology          USA   \n",
       "33  /organization/1366-technologies  1366 Technologies          USA   \n",
       "34  /organization/1366-technologies  1366 Technologies          USA   \n",
       "35  /organization/1366-technologies  1366 Technologies          USA   \n",
       "\n",
       "   funding_round_type  raised_amount_usd     primary_sector  \\\n",
       "6             venture          5000000.0               apps   \n",
       "29            venture         11999347.0  service providers   \n",
       "33            venture         15000000.0      manufacturing   \n",
       "34            venture          5000000.0      manufacturing   \n",
       "35            venture          5150000.0      manufacturing   \n",
       "\n",
       "                   main_sector  \n",
       "6   News, Search and Messaging  \n",
       "29                      Others  \n",
       "33               Manufacturing  \n",
       "34               Manufacturing  \n",
       "35               Manufacturing  "
      ]
     },
     "execution_count": 48,
     "metadata": {},
     "output_type": "execute_result"
    }
   ],
   "source": [
    "D1.head()"
   ]
  },
  {
   "cell_type": "code",
   "execution_count": 49,
   "metadata": {},
   "outputs": [
    {
     "data": {
      "text/html": [
       "<div>\n",
       "<style scoped>\n",
       "    .dataframe tbody tr th:only-of-type {\n",
       "        vertical-align: middle;\n",
       "    }\n",
       "\n",
       "    .dataframe tbody tr th {\n",
       "        vertical-align: top;\n",
       "    }\n",
       "\n",
       "    .dataframe thead th {\n",
       "        text-align: right;\n",
       "    }\n",
       "</style>\n",
       "<table border=\"1\" class=\"dataframe\">\n",
       "  <thead>\n",
       "    <tr style=\"text-align: right;\">\n",
       "      <th></th>\n",
       "      <th>permalink</th>\n",
       "      <th>name</th>\n",
       "      <th>country_code</th>\n",
       "      <th>funding_round_type</th>\n",
       "      <th>raised_amount_usd</th>\n",
       "      <th>primary_sector</th>\n",
       "    </tr>\n",
       "    <tr>\n",
       "      <th>main_sector</th>\n",
       "      <th></th>\n",
       "      <th></th>\n",
       "      <th></th>\n",
       "      <th></th>\n",
       "      <th></th>\n",
       "      <th></th>\n",
       "    </tr>\n",
       "  </thead>\n",
       "  <tbody>\n",
       "    <tr>\n",
       "      <th>Others</th>\n",
       "      <td>2923</td>\n",
       "      <td>2923</td>\n",
       "      <td>2923</td>\n",
       "      <td>2923</td>\n",
       "      <td>2923</td>\n",
       "      <td>2923</td>\n",
       "    </tr>\n",
       "    <tr>\n",
       "      <th>Cleantech / Semiconductors</th>\n",
       "      <td>2297</td>\n",
       "      <td>2297</td>\n",
       "      <td>2297</td>\n",
       "      <td>2297</td>\n",
       "      <td>2297</td>\n",
       "      <td>2297</td>\n",
       "    </tr>\n",
       "    <tr>\n",
       "      <th>Social, Finance, Analytics, Advertising</th>\n",
       "      <td>1912</td>\n",
       "      <td>1912</td>\n",
       "      <td>1912</td>\n",
       "      <td>1912</td>\n",
       "      <td>1912</td>\n",
       "      <td>1912</td>\n",
       "    </tr>\n",
       "    <tr>\n",
       "      <th>News, Search and Messaging</th>\n",
       "      <td>1563</td>\n",
       "      <td>1563</td>\n",
       "      <td>1563</td>\n",
       "      <td>1563</td>\n",
       "      <td>1563</td>\n",
       "      <td>1563</td>\n",
       "    </tr>\n",
       "    <tr>\n",
       "      <th>Health</th>\n",
       "      <td>908</td>\n",
       "      <td>908</td>\n",
       "      <td>908</td>\n",
       "      <td>908</td>\n",
       "      <td>908</td>\n",
       "      <td>908</td>\n",
       "    </tr>\n",
       "  </tbody>\n",
       "</table>\n",
       "</div>"
      ],
      "text/plain": [
       "                                         permalink  name  country_code  \\\n",
       "main_sector                                                              \n",
       "Others                                        2923  2923          2923   \n",
       "Cleantech / Semiconductors                    2297  2297          2297   \n",
       "Social, Finance, Analytics, Advertising       1912  1912          1912   \n",
       "News, Search and Messaging                    1563  1563          1563   \n",
       "Health                                         908   908           908   \n",
       "\n",
       "                                         funding_round_type  \\\n",
       "main_sector                                                   \n",
       "Others                                                 2923   \n",
       "Cleantech / Semiconductors                             2297   \n",
       "Social, Finance, Analytics, Advertising                1912   \n",
       "News, Search and Messaging                             1563   \n",
       "Health                                                  908   \n",
       "\n",
       "                                         raised_amount_usd  primary_sector  \n",
       "main_sector                                                                 \n",
       "Others                                                2923            2923  \n",
       "Cleantech / Semiconductors                            2297            2297  \n",
       "Social, Finance, Analytics, Advertising               1912            1912  \n",
       "News, Search and Messaging                            1563            1563  \n",
       "Health                                                 908             908  "
      ]
     },
     "execution_count": 49,
     "metadata": {},
     "output_type": "execute_result"
    }
   ],
   "source": [
    "#gropy by main_sector on D1 (USA) database and count the no investment\n",
    "D1.groupby(D1.main_sector).count().sort_values(by='name', ascending=False).head(5)"
   ]
  },
  {
   "cell_type": "code",
   "execution_count": 50,
   "metadata": {},
   "outputs": [
    {
     "data": {
      "text/html": [
       "<div>\n",
       "<style scoped>\n",
       "    .dataframe tbody tr th:only-of-type {\n",
       "        vertical-align: middle;\n",
       "    }\n",
       "\n",
       "    .dataframe tbody tr th {\n",
       "        vertical-align: top;\n",
       "    }\n",
       "\n",
       "    .dataframe thead th {\n",
       "        text-align: right;\n",
       "    }\n",
       "</style>\n",
       "<table border=\"1\" class=\"dataframe\">\n",
       "  <thead>\n",
       "    <tr style=\"text-align: right;\">\n",
       "      <th></th>\n",
       "      <th>permalink</th>\n",
       "      <th>name</th>\n",
       "      <th>country_code</th>\n",
       "      <th>funding_round_type</th>\n",
       "      <th>raised_amount_usd</th>\n",
       "      <th>primary_sector</th>\n",
       "      <th>main_sector</th>\n",
       "    </tr>\n",
       "  </thead>\n",
       "  <tbody>\n",
       "    <tr>\n",
       "      <th>10319</th>\n",
       "      <td>/organization/convio</td>\n",
       "      <td>Convio</td>\n",
       "      <td>USA</td>\n",
       "      <td>venture</td>\n",
       "      <td>15000000.0</td>\n",
       "      <td>software</td>\n",
       "      <td>Others</td>\n",
       "    </tr>\n",
       "    <tr>\n",
       "      <th>4297</th>\n",
       "      <td>/organization/avamar-technologies</td>\n",
       "      <td>Avamar Technologies</td>\n",
       "      <td>USA</td>\n",
       "      <td>venture</td>\n",
       "      <td>15000000.0</td>\n",
       "      <td>software</td>\n",
       "      <td>Others</td>\n",
       "    </tr>\n",
       "    <tr>\n",
       "      <th>14240</th>\n",
       "      <td>/organization/equallogic</td>\n",
       "      <td>Equallogic</td>\n",
       "      <td>USA</td>\n",
       "      <td>venture</td>\n",
       "      <td>15000000.0</td>\n",
       "      <td>enterprise software</td>\n",
       "      <td>Others</td>\n",
       "    </tr>\n",
       "    <tr>\n",
       "      <th>36312</th>\n",
       "      <td>/organization/schoology</td>\n",
       "      <td>Schoology</td>\n",
       "      <td>USA</td>\n",
       "      <td>venture</td>\n",
       "      <td>15000000.0</td>\n",
       "      <td>education</td>\n",
       "      <td>Others</td>\n",
       "    </tr>\n",
       "    <tr>\n",
       "      <th>36170</th>\n",
       "      <td>/organization/sauce-labs</td>\n",
       "      <td>Sauce Labs</td>\n",
       "      <td>USA</td>\n",
       "      <td>venture</td>\n",
       "      <td>15000000.0</td>\n",
       "      <td>enterprise software</td>\n",
       "      <td>Others</td>\n",
       "    </tr>\n",
       "  </tbody>\n",
       "</table>\n",
       "</div>"
      ],
      "text/plain": [
       "                               permalink                 name country_code  \\\n",
       "10319               /organization/convio               Convio          USA   \n",
       "4297   /organization/avamar-technologies  Avamar Technologies          USA   \n",
       "14240           /organization/equallogic           Equallogic          USA   \n",
       "36312            /organization/schoology            Schoology          USA   \n",
       "36170           /organization/sauce-labs           Sauce Labs          USA   \n",
       "\n",
       "      funding_round_type  raised_amount_usd       primary_sector main_sector  \n",
       "10319            venture         15000000.0             software      Others  \n",
       "4297             venture         15000000.0             software      Others  \n",
       "14240            venture         15000000.0  enterprise software      Others  \n",
       "36312            venture         15000000.0            education      Others  \n",
       "36170            venture         15000000.0  enterprise software      Others  "
      ]
     },
     "execution_count": 50,
     "metadata": {},
     "output_type": "execute_result"
    }
   ],
   "source": [
    "#funding company of top main_sector(no of investmnet wise) which received the highest investment\n",
    "company_high_investment= D1[D1.main_sector=='Others'].sort_values(by='raised_amount_usd',ascending=False)\n",
    "company_high_investment.head()"
   ]
  },
  {
   "cell_type": "code",
   "execution_count": 51,
   "metadata": {},
   "outputs": [
    {
     "data": {
      "text/plain": [
       "name\n",
       "Virtustream            64300000.0\n",
       "Capella Photonics      54968051.0\n",
       "AirTight Networks      54201907.0\n",
       "deCarta                52100000.0\n",
       "Black Duck Software    51000000.0\n",
       "                          ...    \n",
       "NetQoS                  5000000.0\n",
       "Catavolt                5000000.0\n",
       "NEPENTHEA               5000000.0\n",
       "MyActivityPal           5000000.0\n",
       "Dolls Kill              5000000.0\n",
       "Name: raised_amount_usd, Length: 2030, dtype: float64"
      ]
     },
     "execution_count": 51,
     "metadata": {},
     "output_type": "execute_result"
    }
   ],
   "source": [
    "#group by the compnay\n",
    "company_high_investment.groupby(company_high_investment.name).raised_amount_usd.sum().sort_values(ascending= False)"
   ]
  },
  {
   "cell_type": "code",
   "execution_count": 52,
   "metadata": {},
   "outputs": [
    {
     "data": {
      "text/html": [
       "<div>\n",
       "<style scoped>\n",
       "    .dataframe tbody tr th:only-of-type {\n",
       "        vertical-align: middle;\n",
       "    }\n",
       "\n",
       "    .dataframe tbody tr th {\n",
       "        vertical-align: top;\n",
       "    }\n",
       "\n",
       "    .dataframe thead th {\n",
       "        text-align: right;\n",
       "    }\n",
       "</style>\n",
       "<table border=\"1\" class=\"dataframe\">\n",
       "  <thead>\n",
       "    <tr style=\"text-align: right;\">\n",
       "      <th></th>\n",
       "      <th>permalink</th>\n",
       "      <th>name</th>\n",
       "      <th>country_code</th>\n",
       "      <th>funding_round_type</th>\n",
       "      <th>raised_amount_usd</th>\n",
       "      <th>primary_sector</th>\n",
       "      <th>main_sector</th>\n",
       "    </tr>\n",
       "  </thead>\n",
       "  <tbody>\n",
       "    <tr>\n",
       "      <th>32876</th>\n",
       "      <td>/organization/prestwick-pharmaceuticals-inc</td>\n",
       "      <td>Prestwick Pharmaceuticals, Inc.</td>\n",
       "      <td>USA</td>\n",
       "      <td>venture</td>\n",
       "      <td>15000000.0</td>\n",
       "      <td>bio-pharm</td>\n",
       "      <td>Cleantech / Semiconductors</td>\n",
       "    </tr>\n",
       "    <tr>\n",
       "      <th>7521</th>\n",
       "      <td>/organization/cara-therapeutics</td>\n",
       "      <td>Cara Therapeutics</td>\n",
       "      <td>USA</td>\n",
       "      <td>venture</td>\n",
       "      <td>15000000.0</td>\n",
       "      <td>biotechnology</td>\n",
       "      <td>Cleantech / Semiconductors</td>\n",
       "    </tr>\n",
       "    <tr>\n",
       "      <th>7589</th>\n",
       "      <td>/organization/cardiac-dimensions</td>\n",
       "      <td>Cardiac Dimensions</td>\n",
       "      <td>USA</td>\n",
       "      <td>venture</td>\n",
       "      <td>15000000.0</td>\n",
       "      <td>biotechnology</td>\n",
       "      <td>Cleantech / Semiconductors</td>\n",
       "    </tr>\n",
       "    <tr>\n",
       "      <th>3372</th>\n",
       "      <td>/organization/aratana-therapeutics</td>\n",
       "      <td>Aratana Therapeutics</td>\n",
       "      <td>USA</td>\n",
       "      <td>venture</td>\n",
       "      <td>15000000.0</td>\n",
       "      <td>biotechnology</td>\n",
       "      <td>Cleantech / Semiconductors</td>\n",
       "    </tr>\n",
       "    <tr>\n",
       "      <th>41003</th>\n",
       "      <td>/organization/taris-biomedical</td>\n",
       "      <td>TARIS Biomedical</td>\n",
       "      <td>USA</td>\n",
       "      <td>venture</td>\n",
       "      <td>15000000.0</td>\n",
       "      <td>biotechnology</td>\n",
       "      <td>Cleantech / Semiconductors</td>\n",
       "    </tr>\n",
       "  </tbody>\n",
       "</table>\n",
       "</div>"
      ],
      "text/plain": [
       "                                         permalink  \\\n",
       "32876  /organization/prestwick-pharmaceuticals-inc   \n",
       "7521               /organization/cara-therapeutics   \n",
       "7589              /organization/cardiac-dimensions   \n",
       "3372            /organization/aratana-therapeutics   \n",
       "41003               /organization/taris-biomedical   \n",
       "\n",
       "                                  name country_code funding_round_type  \\\n",
       "32876  Prestwick Pharmaceuticals, Inc.          USA            venture   \n",
       "7521                 Cara Therapeutics          USA            venture   \n",
       "7589                Cardiac Dimensions          USA            venture   \n",
       "3372              Aratana Therapeutics          USA            venture   \n",
       "41003                 TARIS Biomedical          USA            venture   \n",
       "\n",
       "       raised_amount_usd primary_sector                 main_sector  \n",
       "32876         15000000.0      bio-pharm  Cleantech / Semiconductors  \n",
       "7521          15000000.0  biotechnology  Cleantech / Semiconductors  \n",
       "7589          15000000.0  biotechnology  Cleantech / Semiconductors  \n",
       "3372          15000000.0  biotechnology  Cleantech / Semiconductors  \n",
       "41003         15000000.0  biotechnology  Cleantech / Semiconductors  "
      ]
     },
     "execution_count": 52,
     "metadata": {},
     "output_type": "execute_result"
    }
   ],
   "source": [
    "#funding company of second main_sector(no of investmnet wise) which received the highest investment\n",
    "company_2nd_high_investment=D1[D1.main_sector=='Cleantech / Semiconductors'].sort_values(by='raised_amount_usd',ascending=False)\n",
    "company_2nd_high_investment.head()\n"
   ]
  },
  {
   "cell_type": "code",
   "execution_count": 53,
   "metadata": {},
   "outputs": [
    {
     "data": {
      "text/plain": [
       "permalink\n",
       "/organization/biodesix               75300000.0\n",
       "/organization/tigo-energy            68739496.0\n",
       "/organization/forsight-labs          61300001.0\n",
       "/organization/rheonix                56124758.0\n",
       "/organization/scienergy              55375423.0\n",
       "                                        ...    \n",
       "/organization/azuray-technologies     5000000.0\n",
       "/organization/gt-urological           5000000.0\n",
       "/organization/benchling               5000000.0\n",
       "/organization/hadron-systems          5000000.0\n",
       "/organization/1bog                    5000000.0\n",
       "Name: raised_amount_usd, Length: 1582, dtype: float64"
      ]
     },
     "execution_count": 53,
     "metadata": {},
     "output_type": "execute_result"
    }
   ],
   "source": [
    "#group by company name of second main_secctor of D1 dataframe\n",
    "company_2nd_high_investment.groupby(company_2nd_high_investment.permalink).raised_amount_usd.sum().sort_values(ascending= False)"
   ]
  },
  {
   "cell_type": "code",
   "execution_count": 54,
   "metadata": {},
   "outputs": [
    {
     "data": {
      "text/html": [
       "<div>\n",
       "<style scoped>\n",
       "    .dataframe tbody tr th:only-of-type {\n",
       "        vertical-align: middle;\n",
       "    }\n",
       "\n",
       "    .dataframe tbody tr th {\n",
       "        vertical-align: top;\n",
       "    }\n",
       "\n",
       "    .dataframe thead th {\n",
       "        text-align: right;\n",
       "    }\n",
       "</style>\n",
       "<table border=\"1\" class=\"dataframe\">\n",
       "  <thead>\n",
       "    <tr style=\"text-align: right;\">\n",
       "      <th></th>\n",
       "      <th>permalink</th>\n",
       "      <th>name</th>\n",
       "      <th>country_code</th>\n",
       "      <th>funding_round_type</th>\n",
       "      <th>raised_amount_usd</th>\n",
       "      <th>primary_sector</th>\n",
       "      <th>main_sector</th>\n",
       "    </tr>\n",
       "  </thead>\n",
       "  <tbody>\n",
       "    <tr>\n",
       "      <th>151</th>\n",
       "      <td>/organization/365scores</td>\n",
       "      <td>365Scores</td>\n",
       "      <td>GBR</td>\n",
       "      <td>venture</td>\n",
       "      <td>5500000.0</td>\n",
       "      <td>android</td>\n",
       "      <td>Social, Finance, Analytics, Advertising</td>\n",
       "    </tr>\n",
       "    <tr>\n",
       "      <th>336</th>\n",
       "      <td>/organization/7digital</td>\n",
       "      <td>7digital</td>\n",
       "      <td>GBR</td>\n",
       "      <td>venture</td>\n",
       "      <td>8468328.0</td>\n",
       "      <td>content creators</td>\n",
       "      <td>Entertainment</td>\n",
       "    </tr>\n",
       "    <tr>\n",
       "      <th>337</th>\n",
       "      <td>/organization/7digital</td>\n",
       "      <td>7digital</td>\n",
       "      <td>GBR</td>\n",
       "      <td>venture</td>\n",
       "      <td>10000000.0</td>\n",
       "      <td>content creators</td>\n",
       "      <td>Entertainment</td>\n",
       "    </tr>\n",
       "    <tr>\n",
       "      <th>364</th>\n",
       "      <td>/organization/90min</td>\n",
       "      <td>90min</td>\n",
       "      <td>GBR</td>\n",
       "      <td>venture</td>\n",
       "      <td>15000000.0</td>\n",
       "      <td>media</td>\n",
       "      <td>Entertainment</td>\n",
       "    </tr>\n",
       "    <tr>\n",
       "      <th>365</th>\n",
       "      <td>/organization/90min</td>\n",
       "      <td>90min</td>\n",
       "      <td>GBR</td>\n",
       "      <td>venture</td>\n",
       "      <td>5800000.0</td>\n",
       "      <td>media</td>\n",
       "      <td>Entertainment</td>\n",
       "    </tr>\n",
       "  </tbody>\n",
       "</table>\n",
       "</div>"
      ],
      "text/plain": [
       "                   permalink       name country_code funding_round_type  \\\n",
       "151  /organization/365scores  365Scores          GBR            venture   \n",
       "336   /organization/7digital   7digital          GBR            venture   \n",
       "337   /organization/7digital   7digital          GBR            venture   \n",
       "364      /organization/90min      90min          GBR            venture   \n",
       "365      /organization/90min      90min          GBR            venture   \n",
       "\n",
       "     raised_amount_usd    primary_sector  \\\n",
       "151          5500000.0           android   \n",
       "336          8468328.0  content creators   \n",
       "337         10000000.0  content creators   \n",
       "364         15000000.0             media   \n",
       "365          5800000.0             media   \n",
       "\n",
       "                                 main_sector  \n",
       "151  Social, Finance, Analytics, Advertising  \n",
       "336                            Entertainment  \n",
       "337                            Entertainment  \n",
       "364                            Entertainment  \n",
       "365                            Entertainment  "
      ]
     },
     "execution_count": 54,
     "metadata": {},
     "output_type": "execute_result"
    }
   ],
   "source": [
    "D2.head()"
   ]
  },
  {
   "cell_type": "code",
   "execution_count": 55,
   "metadata": {},
   "outputs": [
    {
     "data": {
      "text/html": [
       "<div>\n",
       "<style scoped>\n",
       "    .dataframe tbody tr th:only-of-type {\n",
       "        vertical-align: middle;\n",
       "    }\n",
       "\n",
       "    .dataframe tbody tr th {\n",
       "        vertical-align: top;\n",
       "    }\n",
       "\n",
       "    .dataframe thead th {\n",
       "        text-align: right;\n",
       "    }\n",
       "</style>\n",
       "<table border=\"1\" class=\"dataframe\">\n",
       "  <thead>\n",
       "    <tr style=\"text-align: right;\">\n",
       "      <th></th>\n",
       "      <th>permalink</th>\n",
       "      <th>name</th>\n",
       "      <th>country_code</th>\n",
       "      <th>funding_round_type</th>\n",
       "      <th>raised_amount_usd</th>\n",
       "      <th>primary_sector</th>\n",
       "    </tr>\n",
       "    <tr>\n",
       "      <th>main_sector</th>\n",
       "      <th></th>\n",
       "      <th></th>\n",
       "      <th></th>\n",
       "      <th></th>\n",
       "      <th></th>\n",
       "      <th></th>\n",
       "    </tr>\n",
       "  </thead>\n",
       "  <tbody>\n",
       "    <tr>\n",
       "      <th>Others</th>\n",
       "      <td>143</td>\n",
       "      <td>143</td>\n",
       "      <td>143</td>\n",
       "      <td>143</td>\n",
       "      <td>143</td>\n",
       "      <td>143</td>\n",
       "    </tr>\n",
       "    <tr>\n",
       "      <th>Cleantech / Semiconductors</th>\n",
       "      <td>127</td>\n",
       "      <td>127</td>\n",
       "      <td>127</td>\n",
       "      <td>127</td>\n",
       "      <td>127</td>\n",
       "      <td>127</td>\n",
       "    </tr>\n",
       "    <tr>\n",
       "      <th>Social, Finance, Analytics, Advertising</th>\n",
       "      <td>98</td>\n",
       "      <td>98</td>\n",
       "      <td>98</td>\n",
       "      <td>98</td>\n",
       "      <td>98</td>\n",
       "      <td>98</td>\n",
       "    </tr>\n",
       "    <tr>\n",
       "      <th>News, Search and Messaging</th>\n",
       "      <td>73</td>\n",
       "      <td>73</td>\n",
       "      <td>73</td>\n",
       "      <td>73</td>\n",
       "      <td>73</td>\n",
       "      <td>73</td>\n",
       "    </tr>\n",
       "    <tr>\n",
       "      <th>Entertainment</th>\n",
       "      <td>54</td>\n",
       "      <td>54</td>\n",
       "      <td>54</td>\n",
       "      <td>54</td>\n",
       "      <td>54</td>\n",
       "      <td>54</td>\n",
       "    </tr>\n",
       "  </tbody>\n",
       "</table>\n",
       "</div>"
      ],
      "text/plain": [
       "                                         permalink  name  country_code  \\\n",
       "main_sector                                                              \n",
       "Others                                         143   143           143   \n",
       "Cleantech / Semiconductors                     127   127           127   \n",
       "Social, Finance, Analytics, Advertising         98    98            98   \n",
       "News, Search and Messaging                      73    73            73   \n",
       "Entertainment                                   54    54            54   \n",
       "\n",
       "                                         funding_round_type  \\\n",
       "main_sector                                                   \n",
       "Others                                                  143   \n",
       "Cleantech / Semiconductors                              127   \n",
       "Social, Finance, Analytics, Advertising                  98   \n",
       "News, Search and Messaging                               73   \n",
       "Entertainment                                            54   \n",
       "\n",
       "                                         raised_amount_usd  primary_sector  \n",
       "main_sector                                                                 \n",
       "Others                                                 143             143  \n",
       "Cleantech / Semiconductors                             127             127  \n",
       "Social, Finance, Analytics, Advertising                 98              98  \n",
       "News, Search and Messaging                              73              73  \n",
       "Entertainment                                           54              54  "
      ]
     },
     "execution_count": 55,
     "metadata": {},
     "output_type": "execute_result"
    }
   ],
   "source": [
    "#top main_sector name on D2 database no of count investment-wise\n",
    "D2.groupby(D2.main_sector).count().sort_values(by='permalink', ascending=False).head(5)"
   ]
  },
  {
   "cell_type": "code",
   "execution_count": 56,
   "metadata": {},
   "outputs": [
    {
     "data": {
      "text/html": [
       "<div>\n",
       "<style scoped>\n",
       "    .dataframe tbody tr th:only-of-type {\n",
       "        vertical-align: middle;\n",
       "    }\n",
       "\n",
       "    .dataframe tbody tr th {\n",
       "        vertical-align: top;\n",
       "    }\n",
       "\n",
       "    .dataframe thead th {\n",
       "        text-align: right;\n",
       "    }\n",
       "</style>\n",
       "<table border=\"1\" class=\"dataframe\">\n",
       "  <thead>\n",
       "    <tr style=\"text-align: right;\">\n",
       "      <th></th>\n",
       "      <th>permalink</th>\n",
       "      <th>name</th>\n",
       "      <th>country_code</th>\n",
       "      <th>funding_round_type</th>\n",
       "      <th>raised_amount_usd</th>\n",
       "      <th>primary_sector</th>\n",
       "      <th>main_sector</th>\n",
       "    </tr>\n",
       "  </thead>\n",
       "  <tbody>\n",
       "    <tr>\n",
       "      <th>42801</th>\n",
       "      <td>/organization/tribold</td>\n",
       "      <td>Tribold</td>\n",
       "      <td>GBR</td>\n",
       "      <td>venture</td>\n",
       "      <td>15000000.0</td>\n",
       "      <td>software</td>\n",
       "      <td>Others</td>\n",
       "    </tr>\n",
       "    <tr>\n",
       "      <th>28968</th>\n",
       "      <td>/organization/notonthehighstreet</td>\n",
       "      <td>Notonthehighstreet</td>\n",
       "      <td>GBR</td>\n",
       "      <td>venture</td>\n",
       "      <td>15000000.0</td>\n",
       "      <td>e-commerce</td>\n",
       "      <td>Others</td>\n",
       "    </tr>\n",
       "    <tr>\n",
       "      <th>14112</th>\n",
       "      <td>/organization/environmentiq</td>\n",
       "      <td>EnvironmentIQ</td>\n",
       "      <td>GBR</td>\n",
       "      <td>venture</td>\n",
       "      <td>15000000.0</td>\n",
       "      <td>software</td>\n",
       "      <td>Others</td>\n",
       "    </tr>\n",
       "    <tr>\n",
       "      <th>21189</th>\n",
       "      <td>/organization/ip-access</td>\n",
       "      <td>ip.access</td>\n",
       "      <td>GBR</td>\n",
       "      <td>venture</td>\n",
       "      <td>15000000.0</td>\n",
       "      <td>software</td>\n",
       "      <td>Others</td>\n",
       "    </tr>\n",
       "    <tr>\n",
       "      <th>4650</th>\n",
       "      <td>/organization/azure-solutions</td>\n",
       "      <td>Azure Solutions</td>\n",
       "      <td>GBR</td>\n",
       "      <td>venture</td>\n",
       "      <td>15000000.0</td>\n",
       "      <td>software</td>\n",
       "      <td>Others</td>\n",
       "    </tr>\n",
       "  </tbody>\n",
       "</table>\n",
       "</div>"
      ],
      "text/plain": [
       "                              permalink                name country_code  \\\n",
       "42801             /organization/tribold             Tribold          GBR   \n",
       "28968  /organization/notonthehighstreet  Notonthehighstreet          GBR   \n",
       "14112       /organization/environmentiq       EnvironmentIQ          GBR   \n",
       "21189           /organization/ip-access           ip.access          GBR   \n",
       "4650      /organization/azure-solutions     Azure Solutions          GBR   \n",
       "\n",
       "      funding_round_type  raised_amount_usd primary_sector main_sector  \n",
       "42801            venture         15000000.0       software      Others  \n",
       "28968            venture         15000000.0     e-commerce      Others  \n",
       "14112            venture         15000000.0       software      Others  \n",
       "21189            venture         15000000.0       software      Others  \n",
       "4650             venture         15000000.0       software      Others  "
      ]
     },
     "execution_count": 56,
     "metadata": {},
     "output_type": "execute_result"
    }
   ],
   "source": [
    "#funding company of top main_sector named Others (no of investmnet wise) which received the highest investment\n",
    "company_high_investment_d2= D2[D2.main_sector=='Others'].sort_values(by='raised_amount_usd',ascending=False)\n",
    "company_high_investment_d2.head()"
   ]
  },
  {
   "cell_type": "code",
   "execution_count": 57,
   "metadata": {},
   "outputs": [
    {
     "data": {
      "text/plain": [
       "permalink\n",
       "/organization/electric-cloud             37000000.0\n",
       "/organization/sensage                    36250000.0\n",
       "/organization/enigmatic                  32500000.0\n",
       "/organization/silverrail-technologies    29000000.0\n",
       "/organization/opencloud                  27972766.0\n",
       "                                            ...    \n",
       "/organization/vector-watch                5000000.0\n",
       "/organization/photobox                    5000000.0\n",
       "/organization/udex                        5000000.0\n",
       "/organization/bacula-systems              5000000.0\n",
       "/organization/bullguard                   5000000.0\n",
       "Name: raised_amount_usd, Length: 117, dtype: float64"
      ]
     },
     "execution_count": 57,
     "metadata": {},
     "output_type": "execute_result"
    }
   ],
   "source": [
    "#company name based on reaise_amount_usd\n",
    "company_high_investment_d2.groupby(company_high_investment_d2.permalink).raised_amount_usd.sum().sort_values(ascending= False)"
   ]
  },
  {
   "cell_type": "code",
   "execution_count": 58,
   "metadata": {},
   "outputs": [
    {
     "data": {
      "text/html": [
       "<div>\n",
       "<style scoped>\n",
       "    .dataframe tbody tr th:only-of-type {\n",
       "        vertical-align: middle;\n",
       "    }\n",
       "\n",
       "    .dataframe tbody tr th {\n",
       "        vertical-align: top;\n",
       "    }\n",
       "\n",
       "    .dataframe thead th {\n",
       "        text-align: right;\n",
       "    }\n",
       "</style>\n",
       "<table border=\"1\" class=\"dataframe\">\n",
       "  <thead>\n",
       "    <tr style=\"text-align: right;\">\n",
       "      <th></th>\n",
       "      <th>permalink</th>\n",
       "      <th>name</th>\n",
       "      <th>country_code</th>\n",
       "      <th>funding_round_type</th>\n",
       "      <th>raised_amount_usd</th>\n",
       "      <th>primary_sector</th>\n",
       "      <th>main_sector</th>\n",
       "    </tr>\n",
       "  </thead>\n",
       "  <tbody>\n",
       "    <tr>\n",
       "      <th>2626</th>\n",
       "      <td>/organization/anadigm</td>\n",
       "      <td>Anadigm</td>\n",
       "      <td>GBR</td>\n",
       "      <td>venture</td>\n",
       "      <td>15000000.0</td>\n",
       "      <td>semiconductors</td>\n",
       "      <td>Cleantech / Semiconductors</td>\n",
       "    </tr>\n",
       "    <tr>\n",
       "      <th>13541</th>\n",
       "      <td>/organization/elixent</td>\n",
       "      <td>Elixent</td>\n",
       "      <td>GBR</td>\n",
       "      <td>venture</td>\n",
       "      <td>15000000.0</td>\n",
       "      <td>semiconductors</td>\n",
       "      <td>Cleantech / Semiconductors</td>\n",
       "    </tr>\n",
       "    <tr>\n",
       "      <th>29893</th>\n",
       "      <td>/organization/onyvax</td>\n",
       "      <td>Onyvax</td>\n",
       "      <td>GBR</td>\n",
       "      <td>venture</td>\n",
       "      <td>14906222.0</td>\n",
       "      <td>biotechnology</td>\n",
       "      <td>Cleantech / Semiconductors</td>\n",
       "    </tr>\n",
       "    <tr>\n",
       "      <th>23297</th>\n",
       "      <td>/organization/lectus-therapeutics</td>\n",
       "      <td>Lectus Therapeutics</td>\n",
       "      <td>GBR</td>\n",
       "      <td>venture</td>\n",
       "      <td>14257949.0</td>\n",
       "      <td>biotechnology</td>\n",
       "      <td>Cleantech / Semiconductors</td>\n",
       "    </tr>\n",
       "    <tr>\n",
       "      <th>46681</th>\n",
       "      <td>/organization/xmos</td>\n",
       "      <td>XMOS</td>\n",
       "      <td>GBR</td>\n",
       "      <td>venture</td>\n",
       "      <td>14000000.0</td>\n",
       "      <td>semiconductors</td>\n",
       "      <td>Cleantech / Semiconductors</td>\n",
       "    </tr>\n",
       "  </tbody>\n",
       "</table>\n",
       "</div>"
      ],
      "text/plain": [
       "                               permalink                 name country_code  \\\n",
       "2626               /organization/anadigm              Anadigm          GBR   \n",
       "13541              /organization/elixent              Elixent          GBR   \n",
       "29893               /organization/onyvax               Onyvax          GBR   \n",
       "23297  /organization/lectus-therapeutics  Lectus Therapeutics          GBR   \n",
       "46681                 /organization/xmos                 XMOS          GBR   \n",
       "\n",
       "      funding_round_type  raised_amount_usd  primary_sector  \\\n",
       "2626             venture         15000000.0  semiconductors   \n",
       "13541            venture         15000000.0  semiconductors   \n",
       "29893            venture         14906222.0   biotechnology   \n",
       "23297            venture         14257949.0   biotechnology   \n",
       "46681            venture         14000000.0  semiconductors   \n",
       "\n",
       "                      main_sector  \n",
       "2626   Cleantech / Semiconductors  \n",
       "13541  Cleantech / Semiconductors  \n",
       "29893  Cleantech / Semiconductors  \n",
       "23297  Cleantech / Semiconductors  \n",
       "46681  Cleantech / Semiconductors  "
      ]
     },
     "execution_count": 58,
     "metadata": {},
     "output_type": "execute_result"
    }
   ],
   "source": [
    "#top second main_sector name on D2 database no of count investment-wise\n",
    "company_2nd_high_investment_d2= D2[D2.main_sector=='Cleantech / Semiconductors'].sort_values(by='raised_amount_usd',ascending=False)\n",
    "company_2nd_high_investment_d2.head()"
   ]
  },
  {
   "cell_type": "code",
   "execution_count": 59,
   "metadata": {},
   "outputs": [
    {
     "data": {
      "text/plain": [
       "permalink\n",
       "/organization/eusa-pharma                                                      35600000.0\n",
       "/organization/horizon-discovery                                                31353719.0\n",
       "/organization/f-star-biotechnologische-forschungs-und-entwicklungsges-m-b-h    29132906.0\n",
       "/organization/elixent                                                          25000000.0\n",
       "/organization/takeda-cambridge                                                 22340000.0\n",
       "                                                                                  ...    \n",
       "/organization/lamellar-biomedical                                               5301059.0\n",
       "/organization/mmic-solutions                                                    5250000.0\n",
       "/organization/flowline                                                          5104587.0\n",
       "/organization/ignis-energy                                                      5014644.0\n",
       "/organization/exco-intouch                                                      5000000.0\n",
       "Name: raised_amount_usd, Length: 104, dtype: float64"
      ]
     },
     "execution_count": 59,
     "metadata": {},
     "output_type": "execute_result"
    }
   ],
   "source": [
    "#comapny name which received hightest investment\n",
    "company_2nd_high_investment_d2.groupby(company_2nd_high_investment_d2.permalink).raised_amount_usd.sum().sort_values(ascending= False)"
   ]
  },
  {
   "cell_type": "code",
   "execution_count": 60,
   "metadata": {},
   "outputs": [
    {
     "data": {
      "text/html": [
       "<div>\n",
       "<style scoped>\n",
       "    .dataframe tbody tr th:only-of-type {\n",
       "        vertical-align: middle;\n",
       "    }\n",
       "\n",
       "    .dataframe tbody tr th {\n",
       "        vertical-align: top;\n",
       "    }\n",
       "\n",
       "    .dataframe thead th {\n",
       "        text-align: right;\n",
       "    }\n",
       "</style>\n",
       "<table border=\"1\" class=\"dataframe\">\n",
       "  <thead>\n",
       "    <tr style=\"text-align: right;\">\n",
       "      <th></th>\n",
       "      <th>permalink</th>\n",
       "      <th>name</th>\n",
       "      <th>country_code</th>\n",
       "      <th>funding_round_type</th>\n",
       "      <th>raised_amount_usd</th>\n",
       "      <th>primary_sector</th>\n",
       "      <th>main_sector</th>\n",
       "    </tr>\n",
       "  </thead>\n",
       "  <tbody>\n",
       "    <tr>\n",
       "      <th>0</th>\n",
       "      <td>/organization/-fame</td>\n",
       "      <td>#fame</td>\n",
       "      <td>IND</td>\n",
       "      <td>venture</td>\n",
       "      <td>10000000.0</td>\n",
       "      <td>media</td>\n",
       "      <td>Entertainment</td>\n",
       "    </tr>\n",
       "    <tr>\n",
       "      <th>77</th>\n",
       "      <td>/organization/21diamonds-india</td>\n",
       "      <td>21Diamonds</td>\n",
       "      <td>IND</td>\n",
       "      <td>venture</td>\n",
       "      <td>6369507.0</td>\n",
       "      <td>e-commerce</td>\n",
       "      <td>Others</td>\n",
       "    </tr>\n",
       "    <tr>\n",
       "      <th>1147</th>\n",
       "      <td>/organization/adlabs-imagica</td>\n",
       "      <td>Adlabs Imagica</td>\n",
       "      <td>IND</td>\n",
       "      <td>venture</td>\n",
       "      <td>8180000.0</td>\n",
       "      <td>entertainment</td>\n",
       "      <td>Entertainment</td>\n",
       "    </tr>\n",
       "    <tr>\n",
       "      <th>1882</th>\n",
       "      <td>/organization/akosha</td>\n",
       "      <td>Akosha</td>\n",
       "      <td>IND</td>\n",
       "      <td>venture</td>\n",
       "      <td>5000000.0</td>\n",
       "      <td>consumer internet</td>\n",
       "      <td>Social, Finance, Analytics, Advertising</td>\n",
       "    </tr>\n",
       "    <tr>\n",
       "      <th>2369</th>\n",
       "      <td>/organization/amagi-media-labs</td>\n",
       "      <td>Amagi Media Labs</td>\n",
       "      <td>IND</td>\n",
       "      <td>venture</td>\n",
       "      <td>5500000.0</td>\n",
       "      <td>advertising</td>\n",
       "      <td>Social, Finance, Analytics, Advertising</td>\n",
       "    </tr>\n",
       "  </tbody>\n",
       "</table>\n",
       "</div>"
      ],
      "text/plain": [
       "                           permalink              name country_code  \\\n",
       "0                /organization/-fame             #fame          IND   \n",
       "77    /organization/21diamonds-india        21Diamonds          IND   \n",
       "1147    /organization/adlabs-imagica    Adlabs Imagica          IND   \n",
       "1882            /organization/akosha            Akosha          IND   \n",
       "2369  /organization/amagi-media-labs  Amagi Media Labs          IND   \n",
       "\n",
       "     funding_round_type  raised_amount_usd     primary_sector  \\\n",
       "0               venture         10000000.0              media   \n",
       "77              venture          6369507.0         e-commerce   \n",
       "1147            venture          8180000.0      entertainment   \n",
       "1882            venture          5000000.0  consumer internet   \n",
       "2369            venture          5500000.0        advertising   \n",
       "\n",
       "                                  main_sector  \n",
       "0                               Entertainment  \n",
       "77                                     Others  \n",
       "1147                            Entertainment  \n",
       "1882  Social, Finance, Analytics, Advertising  \n",
       "2369  Social, Finance, Analytics, Advertising  "
      ]
     },
     "execution_count": 60,
     "metadata": {},
     "output_type": "execute_result"
    }
   ],
   "source": [
    "D3.head()"
   ]
  },
  {
   "cell_type": "code",
   "execution_count": 61,
   "metadata": {},
   "outputs": [
    {
     "data": {
      "text/html": [
       "<div>\n",
       "<style scoped>\n",
       "    .dataframe tbody tr th:only-of-type {\n",
       "        vertical-align: middle;\n",
       "    }\n",
       "\n",
       "    .dataframe tbody tr th {\n",
       "        vertical-align: top;\n",
       "    }\n",
       "\n",
       "    .dataframe thead th {\n",
       "        text-align: right;\n",
       "    }\n",
       "</style>\n",
       "<table border=\"1\" class=\"dataframe\">\n",
       "  <thead>\n",
       "    <tr style=\"text-align: right;\">\n",
       "      <th></th>\n",
       "      <th>permalink</th>\n",
       "      <th>name</th>\n",
       "      <th>country_code</th>\n",
       "      <th>funding_round_type</th>\n",
       "      <th>raised_amount_usd</th>\n",
       "      <th>primary_sector</th>\n",
       "    </tr>\n",
       "    <tr>\n",
       "      <th>main_sector</th>\n",
       "      <th></th>\n",
       "      <th></th>\n",
       "      <th></th>\n",
       "      <th></th>\n",
       "      <th></th>\n",
       "      <th></th>\n",
       "    </tr>\n",
       "  </thead>\n",
       "  <tbody>\n",
       "    <tr>\n",
       "      <th>Others</th>\n",
       "      <td>109</td>\n",
       "      <td>109</td>\n",
       "      <td>109</td>\n",
       "      <td>109</td>\n",
       "      <td>109</td>\n",
       "      <td>109</td>\n",
       "    </tr>\n",
       "    <tr>\n",
       "      <th>News, Search and Messaging</th>\n",
       "      <td>52</td>\n",
       "      <td>52</td>\n",
       "      <td>52</td>\n",
       "      <td>52</td>\n",
       "      <td>52</td>\n",
       "      <td>52</td>\n",
       "    </tr>\n",
       "    <tr>\n",
       "      <th>Entertainment</th>\n",
       "      <td>33</td>\n",
       "      <td>33</td>\n",
       "      <td>33</td>\n",
       "      <td>33</td>\n",
       "      <td>33</td>\n",
       "      <td>33</td>\n",
       "    </tr>\n",
       "    <tr>\n",
       "      <th>Social, Finance, Analytics, Advertising</th>\n",
       "      <td>32</td>\n",
       "      <td>32</td>\n",
       "      <td>32</td>\n",
       "      <td>32</td>\n",
       "      <td>32</td>\n",
       "      <td>32</td>\n",
       "    </tr>\n",
       "    <tr>\n",
       "      <th>Manufacturing</th>\n",
       "      <td>21</td>\n",
       "      <td>21</td>\n",
       "      <td>21</td>\n",
       "      <td>21</td>\n",
       "      <td>21</td>\n",
       "      <td>21</td>\n",
       "    </tr>\n",
       "  </tbody>\n",
       "</table>\n",
       "</div>"
      ],
      "text/plain": [
       "                                         permalink  name  country_code  \\\n",
       "main_sector                                                              \n",
       "Others                                         109   109           109   \n",
       "News, Search and Messaging                      52    52            52   \n",
       "Entertainment                                   33    33            33   \n",
       "Social, Finance, Analytics, Advertising         32    32            32   \n",
       "Manufacturing                                   21    21            21   \n",
       "\n",
       "                                         funding_round_type  \\\n",
       "main_sector                                                   \n",
       "Others                                                  109   \n",
       "News, Search and Messaging                               52   \n",
       "Entertainment                                            33   \n",
       "Social, Finance, Analytics, Advertising                  32   \n",
       "Manufacturing                                            21   \n",
       "\n",
       "                                         raised_amount_usd  primary_sector  \n",
       "main_sector                                                                 \n",
       "Others                                                 109             109  \n",
       "News, Search and Messaging                              52              52  \n",
       "Entertainment                                           33              33  \n",
       "Social, Finance, Analytics, Advertising                 32              32  \n",
       "Manufacturing                                           21              21  "
      ]
     },
     "execution_count": 61,
     "metadata": {},
     "output_type": "execute_result"
    }
   ],
   "source": [
    "#no of investment main_sector wise\n",
    "D3.groupby(D3.main_sector).count().sort_values(by='permalink', ascending=False).head(5)\n",
    "\n"
   ]
  },
  {
   "cell_type": "code",
   "execution_count": 62,
   "metadata": {},
   "outputs": [
    {
     "data": {
      "text/html": [
       "<div>\n",
       "<style scoped>\n",
       "    .dataframe tbody tr th:only-of-type {\n",
       "        vertical-align: middle;\n",
       "    }\n",
       "\n",
       "    .dataframe tbody tr th {\n",
       "        vertical-align: top;\n",
       "    }\n",
       "\n",
       "    .dataframe thead th {\n",
       "        text-align: right;\n",
       "    }\n",
       "</style>\n",
       "<table border=\"1\" class=\"dataframe\">\n",
       "  <thead>\n",
       "    <tr style=\"text-align: right;\">\n",
       "      <th></th>\n",
       "      <th>permalink</th>\n",
       "      <th>name</th>\n",
       "      <th>country_code</th>\n",
       "      <th>funding_round_type</th>\n",
       "      <th>raised_amount_usd</th>\n",
       "      <th>primary_sector</th>\n",
       "      <th>main_sector</th>\n",
       "    </tr>\n",
       "  </thead>\n",
       "  <tbody>\n",
       "    <tr>\n",
       "      <th>23675</th>\n",
       "      <td>/organization/limeroad</td>\n",
       "      <td>LimeRoad</td>\n",
       "      <td>IND</td>\n",
       "      <td>venture</td>\n",
       "      <td>15000000.0</td>\n",
       "      <td>e-commerce</td>\n",
       "      <td>Others</td>\n",
       "    </tr>\n",
       "    <tr>\n",
       "      <th>9049</th>\n",
       "      <td>/organization/classteacher-learning-systems</td>\n",
       "      <td>Classteacher Learning Systems</td>\n",
       "      <td>IND</td>\n",
       "      <td>venture</td>\n",
       "      <td>15000000.0</td>\n",
       "      <td>edtech</td>\n",
       "      <td>Others</td>\n",
       "    </tr>\n",
       "    <tr>\n",
       "      <th>45302</th>\n",
       "      <td>/organization/voylla-retail-pvt-ltd</td>\n",
       "      <td>Voylla Retail Pvt. Ltd.</td>\n",
       "      <td>IND</td>\n",
       "      <td>venture</td>\n",
       "      <td>15000000.0</td>\n",
       "      <td>e-commerce</td>\n",
       "      <td>Others</td>\n",
       "    </tr>\n",
       "    <tr>\n",
       "      <th>41208</th>\n",
       "      <td>/organization/tejas-networks-india</td>\n",
       "      <td>Tejas Networks India</td>\n",
       "      <td>IND</td>\n",
       "      <td>venture</td>\n",
       "      <td>15000000.0</td>\n",
       "      <td>web hosting</td>\n",
       "      <td>Others</td>\n",
       "    </tr>\n",
       "    <tr>\n",
       "      <th>35641</th>\n",
       "      <td>/organization/roposo</td>\n",
       "      <td>Roposo</td>\n",
       "      <td>IND</td>\n",
       "      <td>venture</td>\n",
       "      <td>15000000.0</td>\n",
       "      <td>e-commerce</td>\n",
       "      <td>Others</td>\n",
       "    </tr>\n",
       "  </tbody>\n",
       "</table>\n",
       "</div>"
      ],
      "text/plain": [
       "                                         permalink  \\\n",
       "23675                       /organization/limeroad   \n",
       "9049   /organization/classteacher-learning-systems   \n",
       "45302          /organization/voylla-retail-pvt-ltd   \n",
       "41208           /organization/tejas-networks-india   \n",
       "35641                         /organization/roposo   \n",
       "\n",
       "                                name country_code funding_round_type  \\\n",
       "23675                       LimeRoad          IND            venture   \n",
       "9049   Classteacher Learning Systems          IND            venture   \n",
       "45302        Voylla Retail Pvt. Ltd.          IND            venture   \n",
       "41208           Tejas Networks India          IND            venture   \n",
       "35641                         Roposo          IND            venture   \n",
       "\n",
       "       raised_amount_usd primary_sector main_sector  \n",
       "23675         15000000.0     e-commerce      Others  \n",
       "9049          15000000.0         edtech      Others  \n",
       "45302         15000000.0     e-commerce      Others  \n",
       "41208         15000000.0    web hosting      Others  \n",
       "35641         15000000.0     e-commerce      Others  "
      ]
     },
     "execution_count": 62,
     "metadata": {},
     "output_type": "execute_result"
    }
   ],
   "source": [
    "#datafreme of higest main_sector \n",
    "company_high_investment_d3= D3[D3.main_sector=='Others'].sort_values(by='raised_amount_usd',ascending=False)\n",
    "company_high_investment_d3.head()"
   ]
  },
  {
   "cell_type": "code",
   "execution_count": 63,
   "metadata": {},
   "outputs": [
    {
     "data": {
      "text/plain": [
       "permalink\n",
       "/organization/firstcry-com           39000000.0\n",
       "/organization/myntra                 38000000.0\n",
       "/organization/commonfloor            32900000.0\n",
       "/organization/pepperfry-com          28000000.0\n",
       "/organization/itzcash-card-ltd       25000000.0\n",
       "                                        ...    \n",
       "/organization/tastykhana              5000000.0\n",
       "/organization/reznext                 5000000.0\n",
       "/organization/voonik-com              5000000.0\n",
       "/organization/vedantu-innovations     5000000.0\n",
       "/organization/liases-foras            5000000.0\n",
       "Name: raised_amount_usd, Length: 87, dtype: float64"
      ]
     },
     "execution_count": 63,
     "metadata": {},
     "output_type": "execute_result"
    }
   ],
   "source": [
    "\n",
    "company_high_investment_d3.groupby(company_high_investment_d3.permalink).raised_amount_usd.sum().sort_values(ascending= False)"
   ]
  },
  {
   "cell_type": "code",
   "execution_count": 64,
   "metadata": {},
   "outputs": [
    {
     "data": {
      "text/html": [
       "<div>\n",
       "<style scoped>\n",
       "    .dataframe tbody tr th:only-of-type {\n",
       "        vertical-align: middle;\n",
       "    }\n",
       "\n",
       "    .dataframe tbody tr th {\n",
       "        vertical-align: top;\n",
       "    }\n",
       "\n",
       "    .dataframe thead th {\n",
       "        text-align: right;\n",
       "    }\n",
       "</style>\n",
       "<table border=\"1\" class=\"dataframe\">\n",
       "  <thead>\n",
       "    <tr style=\"text-align: right;\">\n",
       "      <th></th>\n",
       "      <th>permalink</th>\n",
       "      <th>name</th>\n",
       "      <th>country_code</th>\n",
       "      <th>funding_round_type</th>\n",
       "      <th>raised_amount_usd</th>\n",
       "      <th>primary_sector</th>\n",
       "      <th>main_sector</th>\n",
       "    </tr>\n",
       "  </thead>\n",
       "  <tbody>\n",
       "    <tr>\n",
       "      <th>26537</th>\n",
       "      <td>/organization/mobile2win-india</td>\n",
       "      <td>Mobile2Win India</td>\n",
       "      <td>IND</td>\n",
       "      <td>venture</td>\n",
       "      <td>15000000.0</td>\n",
       "      <td>mobile</td>\n",
       "      <td>News, Search and Messaging</td>\n",
       "    </tr>\n",
       "    <tr>\n",
       "      <th>18714</th>\n",
       "      <td>/organization/hike</td>\n",
       "      <td>hike</td>\n",
       "      <td>IND</td>\n",
       "      <td>venture</td>\n",
       "      <td>14000000.0</td>\n",
       "      <td>messaging</td>\n",
       "      <td>News, Search and Messaging</td>\n",
       "    </tr>\n",
       "    <tr>\n",
       "      <th>19716</th>\n",
       "      <td>/organization/imimobile</td>\n",
       "      <td>IMImobile</td>\n",
       "      <td>IND</td>\n",
       "      <td>venture</td>\n",
       "      <td>13000000.0</td>\n",
       "      <td>mobile</td>\n",
       "      <td>News, Search and Messaging</td>\n",
       "    </tr>\n",
       "    <tr>\n",
       "      <th>38363</th>\n",
       "      <td>/organization/sms-gupshup</td>\n",
       "      <td>SMS GupShup</td>\n",
       "      <td>IND</td>\n",
       "      <td>venture</td>\n",
       "      <td>12000000.0</td>\n",
       "      <td>mobile</td>\n",
       "      <td>News, Search and Messaging</td>\n",
       "    </tr>\n",
       "    <tr>\n",
       "      <th>18033</th>\n",
       "      <td>/organization/gupshup-technology-india-pvt-ltd</td>\n",
       "      <td>GupShup</td>\n",
       "      <td>IND</td>\n",
       "      <td>venture</td>\n",
       "      <td>12000000.0</td>\n",
       "      <td>mobile</td>\n",
       "      <td>News, Search and Messaging</td>\n",
       "    </tr>\n",
       "  </tbody>\n",
       "</table>\n",
       "</div>"
      ],
      "text/plain": [
       "                                            permalink              name  \\\n",
       "26537                  /organization/mobile2win-india  Mobile2Win India   \n",
       "18714                              /organization/hike              hike   \n",
       "19716                         /organization/imimobile         IMImobile   \n",
       "38363                       /organization/sms-gupshup       SMS GupShup   \n",
       "18033  /organization/gupshup-technology-india-pvt-ltd           GupShup   \n",
       "\n",
       "      country_code funding_round_type  raised_amount_usd primary_sector  \\\n",
       "26537          IND            venture         15000000.0         mobile   \n",
       "18714          IND            venture         14000000.0      messaging   \n",
       "19716          IND            venture         13000000.0         mobile   \n",
       "38363          IND            venture         12000000.0         mobile   \n",
       "18033          IND            venture         12000000.0         mobile   \n",
       "\n",
       "                      main_sector  \n",
       "26537  News, Search and Messaging  \n",
       "18714  News, Search and Messaging  \n",
       "19716  News, Search and Messaging  \n",
       "38363  News, Search and Messaging  \n",
       "18033  News, Search and Messaging  "
      ]
     },
     "execution_count": 64,
     "metadata": {},
     "output_type": "execute_result"
    }
   ],
   "source": [
    "company_2nd_high_investment_d3= D3[D3.main_sector=='News, Search and Messaging'].sort_values(by='raised_amount_usd',ascending=False)\n",
    "company_2nd_high_investment_d3.head()"
   ]
  },
  {
   "cell_type": "code",
   "execution_count": 65,
   "metadata": {},
   "outputs": [
    {
     "data": {
      "text/plain": [
       "permalink\n",
       "/organization/gupshup-technology-india-pvt-ltd    33000000.0\n",
       "/organization/imimobile                           23000000.0\n",
       "/organization/sms-gupshup                         22000000.0\n",
       "/organization/hike                                21000000.0\n",
       "/organization/roadrunnr                           21000000.0\n",
       "Name: raised_amount_usd, dtype: float64"
      ]
     },
     "execution_count": 65,
     "metadata": {},
     "output_type": "execute_result"
    }
   ],
   "source": [
    "company_2nd_high_investment_d3.groupby(company_2nd_high_investment_d3.permalink).raised_amount_usd.sum().sort_values(\n",
    "    ascending= False).head()"
   ]
  },
  {
   "cell_type": "code",
   "execution_count": null,
   "metadata": {},
   "outputs": [],
   "source": []
  },
  {
   "cell_type": "markdown",
   "metadata": {},
   "source": [
    "# Checkpoint 6: Plots"
   ]
  },
  {
   "cell_type": "markdown",
   "metadata": {},
   "source": [
    "### ~A plot of total investments (globally) in angel, venture, seed, and private equity, and the average amount of investment in each funding type."
   ]
  },
  {
   "cell_type": "code",
   "execution_count": 66,
   "metadata": {},
   "outputs": [
    {
     "data": {
      "text/html": [
       "<div>\n",
       "<style scoped>\n",
       "    .dataframe tbody tr th:only-of-type {\n",
       "        vertical-align: middle;\n",
       "    }\n",
       "\n",
       "    .dataframe tbody tr th {\n",
       "        vertical-align: top;\n",
       "    }\n",
       "\n",
       "    .dataframe thead th {\n",
       "        text-align: right;\n",
       "    }\n",
       "</style>\n",
       "<table border=\"1\" class=\"dataframe\">\n",
       "  <thead>\n",
       "    <tr style=\"text-align: right;\">\n",
       "      <th></th>\n",
       "      <th>permalink</th>\n",
       "      <th>name</th>\n",
       "      <th>category_list</th>\n",
       "      <th>country_code</th>\n",
       "      <th>funding_round_type</th>\n",
       "      <th>raised_amount_usd</th>\n",
       "    </tr>\n",
       "  </thead>\n",
       "  <tbody>\n",
       "    <tr>\n",
       "      <th>0</th>\n",
       "      <td>/organization/-fame</td>\n",
       "      <td>#fame</td>\n",
       "      <td>Media</td>\n",
       "      <td>IND</td>\n",
       "      <td>venture</td>\n",
       "      <td>10000000.0</td>\n",
       "    </tr>\n",
       "    <tr>\n",
       "      <th>2</th>\n",
       "      <td>/organization/-qounter</td>\n",
       "      <td>:Qounter</td>\n",
       "      <td>Application Platforms|Real Time|Social Network...</td>\n",
       "      <td>USA</td>\n",
       "      <td>seed</td>\n",
       "      <td>700000.0</td>\n",
       "    </tr>\n",
       "  </tbody>\n",
       "</table>\n",
       "</div>"
      ],
      "text/plain": [
       "                permalink      name  \\\n",
       "0     /organization/-fame     #fame   \n",
       "2  /organization/-qounter  :Qounter   \n",
       "\n",
       "                                       category_list country_code  \\\n",
       "0                                              Media          IND   \n",
       "2  Application Platforms|Real Time|Social Network...          USA   \n",
       "\n",
       "  funding_round_type  raised_amount_usd  \n",
       "0            venture         10000000.0  \n",
       "2               seed           700000.0  "
      ]
     },
     "execution_count": 66,
     "metadata": {},
     "output_type": "execute_result"
    }
   ],
   "source": [
    "master_frame_plot.head(2)"
   ]
  },
  {
   "cell_type": "code",
   "execution_count": 67,
   "metadata": {},
   "outputs": [
    {
     "data": {
      "image/png": "[encoded data removed]",
      "text/plain": [
       "<Figure size 1152x432 with 2 Axes>"
      ]
     },
     "metadata": {},
     "output_type": "display_data"
    }
   ],
   "source": [
    "# set a seaborn style of your taste\n",
    "sns.set_style(\"whitegrid\")\n",
    "plt.figure(figsize=(16, 6))\n",
    "plt.subplot(1, 2, 1)\n",
    "sns.countplot(x=\"funding_round_type\", data=master_frame_plot)\n",
    "plt.title(\"# of Investments\")\n",
    "plt.subplot(1, 2, 2)\n",
    "sns.barplot(y='raised_amount_usd', x=\"funding_round_type\", data=master_frame_plot, estimator=np.mean)\n",
    "plt.title(\"Average\")\n",
    "plt.show()"
   ]
  },
  {
   "cell_type": "markdown",
   "metadata": {},
   "source": [
    "### A plot of top 9 countries against the total amount of investments of funding type ``venture``."
   ]
  },
  {
   "cell_type": "code",
   "execution_count": 68,
   "metadata": {},
   "outputs": [
    {
     "data": {
      "image/png": "[encoded data removed]",
      "text/plain": [
       "<Figure size 1080x360 with 1 Axes>"
      ]
     },
     "metadata": {},
     "output_type": "display_data"
    }
   ],
   "source": [
    "plt.figure(figsize=(15,5 ))\n",
    "c=sns.barplot(x=top9.index, y=top9.raised_amount_usd.ravel())\n",
    "c.set_yscale('log')\n",
    "c.set(xlabel='Country code (Funding Type-Venture)', ylabel='Raised amount(USD)')\n",
    "plt.title(\"Country Analysis\",fontsize =18)\n",
    "plt.show()"
   ]
  },
  {
   "cell_type": "markdown",
   "metadata": {},
   "source": [
    "### Plotting sector-wise count and sum of investments in the three countries\n"
   ]
  },
  {
   "cell_type": "code",
   "execution_count": 69,
   "metadata": {},
   "outputs": [],
   "source": [
    "master_d = D1[D1['main_sector'].isin(['Others','Cleantech / Semiconductors','Social, Finance, Analytics, Advertising'])]\n",
    "master_d= master_d.append(D2[D2['main_sector'].isin(['Others','Cleantech / Semiconductors','Social, Finance, Analytics, Advertising'])])\n",
    "master_d =master_d.append(D3[D3['main_sector'].isin(['Others','News, Search and Messaging','Entertainment'])])"
   ]
  },
  {
   "cell_type": "code",
   "execution_count": 70,
   "metadata": {},
   "outputs": [
    {
     "data": {
      "text/html": [
       "<div>\n",
       "<style scoped>\n",
       "    .dataframe tbody tr th:only-of-type {\n",
       "        vertical-align: middle;\n",
       "    }\n",
       "\n",
       "    .dataframe tbody tr th {\n",
       "        vertical-align: top;\n",
       "    }\n",
       "\n",
       "    .dataframe thead th {\n",
       "        text-align: right;\n",
       "    }\n",
       "</style>\n",
       "<table border=\"1\" class=\"dataframe\">\n",
       "  <thead>\n",
       "    <tr style=\"text-align: right;\">\n",
       "      <th></th>\n",
       "      <th>permalink</th>\n",
       "      <th>name</th>\n",
       "      <th>country_code</th>\n",
       "      <th>funding_round_type</th>\n",
       "      <th>raised_amount_usd</th>\n",
       "      <th>primary_sector</th>\n",
       "      <th>main_sector</th>\n",
       "    </tr>\n",
       "  </thead>\n",
       "  <tbody>\n",
       "    <tr>\n",
       "      <th>29</th>\n",
       "      <td>/organization/128-technology</td>\n",
       "      <td>128 Technology</td>\n",
       "      <td>USA</td>\n",
       "      <td>venture</td>\n",
       "      <td>11999347.0</td>\n",
       "      <td>service providers</td>\n",
       "      <td>Others</td>\n",
       "    </tr>\n",
       "    <tr>\n",
       "      <th>43</th>\n",
       "      <td>/organization/170-systems</td>\n",
       "      <td>170 Systems</td>\n",
       "      <td>USA</td>\n",
       "      <td>venture</td>\n",
       "      <td>14000000.0</td>\n",
       "      <td>software</td>\n",
       "      <td>Others</td>\n",
       "    </tr>\n",
       "    <tr>\n",
       "      <th>48</th>\n",
       "      <td>/organization/17zuoye</td>\n",
       "      <td>17zuoye</td>\n",
       "      <td>USA</td>\n",
       "      <td>venture</td>\n",
       "      <td>5000000.0</td>\n",
       "      <td>education</td>\n",
       "      <td>Others</td>\n",
       "    </tr>\n",
       "    <tr>\n",
       "      <th>49</th>\n",
       "      <td>/organization/17zuoye</td>\n",
       "      <td>17zuoye</td>\n",
       "      <td>USA</td>\n",
       "      <td>venture</td>\n",
       "      <td>10000000.0</td>\n",
       "      <td>education</td>\n",
       "      <td>Others</td>\n",
       "    </tr>\n",
       "    <tr>\n",
       "      <th>54</th>\n",
       "      <td>/organization/1bog</td>\n",
       "      <td>One Block Off the Grid (1BOG)</td>\n",
       "      <td>USA</td>\n",
       "      <td>venture</td>\n",
       "      <td>5000000.0</td>\n",
       "      <td>clean technology</td>\n",
       "      <td>Cleantech / Semiconductors</td>\n",
       "    </tr>\n",
       "  </tbody>\n",
       "</table>\n",
       "</div>"
      ],
      "text/plain": [
       "                       permalink                           name country_code  \\\n",
       "29  /organization/128-technology                 128 Technology          USA   \n",
       "43     /organization/170-systems                    170 Systems          USA   \n",
       "48         /organization/17zuoye                        17zuoye          USA   \n",
       "49         /organization/17zuoye                        17zuoye          USA   \n",
       "54            /organization/1bog  One Block Off the Grid (1BOG)          USA   \n",
       "\n",
       "   funding_round_type  raised_amount_usd     primary_sector  \\\n",
       "29            venture         11999347.0  service providers   \n",
       "43            venture         14000000.0           software   \n",
       "48            venture          5000000.0          education   \n",
       "49            venture         10000000.0          education   \n",
       "54            venture          5000000.0   clean technology   \n",
       "\n",
       "                   main_sector  \n",
       "29                      Others  \n",
       "43                      Others  \n",
       "48                      Others  \n",
       "49                      Others  \n",
       "54  Cleantech / Semiconductors  "
      ]
     },
     "execution_count": 70,
     "metadata": {},
     "output_type": "execute_result"
    }
   ],
   "source": [
    "master_d.head()"
   ]
  },
  {
   "cell_type": "code",
   "execution_count": 71,
   "metadata": {},
   "outputs": [
    {
     "data": {
      "image/png": "[encoded data removed]",
      "text/plain": [
       "<Figure size 960x480 with 1 Axes>"
      ]
     },
     "metadata": {},
     "output_type": "display_data"
    }
   ],
   "source": [
    "# set figure size for larger figure\n",
    "plt.figure(num=None, figsize=(12, 6), dpi=80, facecolor='w', edgecolor='k')\n",
    "\n",
    "# specify hue=\"categorical_variable\"\n",
    "s=sns.barplot(x='country_code', y='raised_amount_usd', hue=\"main_sector\", data=master_d ,estimator=lambda x: len(x))\n",
    "s.set(xlabel='Country', ylabel='Number of Investments')\n",
    "s.set_title('Investments in top3 sectors of top 3 countries',fontsize =18)\n",
    "plt.show()"
   ]
  },
  {
   "cell_type": "markdown",
   "metadata": {},
   "source": [
    "### Conclusion :\n",
    "Based on the data analysis, SparksFunds should invest in \n",
    "- Funding type - **`venture`**.\n",
    "- Countries - **`USA`**, **`United Kingdom`** and **`India`** respectively.\n",
    "- Top three sectors to invest in **`USA`** are - **`Others`** ,**`Cleantech / Semiconductors`** and **`Social, Finance,     Analytics,Advertising`**. \n",
    "\n",
    "- Top 3 sectors to invest in **`United Kingdow`** are  **`Others`**, **`Cleantech / Semiconductors`** and **`Social, Finance, Analytics,Advertising**.\n",
    "\n",
    "- Top 3 sectors to invest in **`India`** are  **`Others`** , **`News, Search and Messaging`** and **`Entertainment`**."
   ]
  },
  {
   "cell_type": "code",
   "execution_count": null,
   "metadata": {},
   "outputs": [],
   "source": []
  }
 ],
 "metadata": {
  "kernelspec": {
   "display_name": "Python 3",
   "language": "python",
   "name": "python3"
  },
  "language_info": {
   "codemirror_mode": {
    "name": "ipython",
    "version": 3
   },
   "file_extension": ".py",
   "mimetype": "text/x-python",
   "name": "python",
   "nbconvert_exporter": "python",
   "pygments_lexer": "ipython3",
   "version": "3.6.8"
  }
 },
 "nbformat": 4,
 "nbformat_minor": 4
}
